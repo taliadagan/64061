{
  "cells": [
    {
      "cell_type": "markdown",
      "metadata": {
        "id": "YJJUORUfirC5"
      },
      "source": [
        "This is a companion notebook for the book [Deep Learning with Python, Second Edition](https://www.manning.com/books/deep-learning-with-python-second-edition?a_aid=keras&a_bid=76564dff). For readability, it only contains runnable code blocks and section titles, and omits everything else in the book: text paragraphs, figures, and pseudocode.\n",
        "\n",
        "**If you want to be able to follow what's going on, I recommend reading the notebook side by side with your copy of the book.**\n",
        "\n",
        "This notebook was generated for TensorFlow 2.6."
      ]
    },
    {
      "cell_type": "markdown",
      "metadata": {
        "id": "AuOg0sMOirC9"
      },
      "source": [
        "# Introduction to deep learning for computer vision"
      ]
    },
    {
      "cell_type": "markdown",
      "metadata": {
        "id": "dZN2xEGoirC-"
      },
      "source": [
        "## Introduction to convnets"
      ]
    },
    {
      "cell_type": "markdown",
      "metadata": {
        "id": "yFFP4-AJirC-"
      },
      "source": [
        "**Instantiating a small convnet**"
      ]
    },
    {
      "cell_type": "code",
      "execution_count": 1,
      "metadata": {
        "id": "61gdgeQeirC_"
      },
      "outputs": [],
      "source": [
        "from tensorflow import keras\n",
        "from tensorflow.keras import layers\n",
        "inputs = keras.Input(shape=(28, 28, 1))\n",
        "x = layers.Conv2D(filters=32, kernel_size=3, activation=\"relu\")(inputs)\n",
        "x = layers.MaxPooling2D(pool_size=2)(x)\n",
        "x = layers.Conv2D(filters=64, kernel_size=3, activation=\"relu\")(x)\n",
        "x = layers.MaxPooling2D(pool_size=2)(x)\n",
        "x = layers.Conv2D(filters=128, kernel_size=3, activation=\"relu\")(x)\n",
        "x = layers.Flatten()(x)\n",
        "outputs = layers.Dense(10, activation=\"softmax\")(x)\n",
        "model = keras.Model(inputs=inputs, outputs=outputs)"
      ]
    },
    {
      "cell_type": "markdown",
      "metadata": {
        "id": "iqaYh7TPirDA"
      },
      "source": [
        "**Displaying the model's summary**"
      ]
    },
    {
      "cell_type": "code",
      "execution_count": 2,
      "metadata": {
        "id": "dVA_f3EwirDA",
        "colab": {
          "base_uri": "https://localhost:8080/"
        },
        "outputId": "465277b9-8f50-4633-f303-5026cdf49690"
      },
      "outputs": [
        {
          "output_type": "stream",
          "name": "stdout",
          "text": [
            "Model: \"model\"\n",
            "_________________________________________________________________\n",
            " Layer (type)                Output Shape              Param #   \n",
            "=================================================================\n",
            " input_1 (InputLayer)        [(None, 28, 28, 1)]       0         \n",
            "                                                                 \n",
            " conv2d (Conv2D)             (None, 26, 26, 32)        320       \n",
            "                                                                 \n",
            " max_pooling2d (MaxPooling2D  (None, 13, 13, 32)       0         \n",
            " )                                                               \n",
            "                                                                 \n",
            " conv2d_1 (Conv2D)           (None, 11, 11, 64)        18496     \n",
            "                                                                 \n",
            " max_pooling2d_1 (MaxPooling  (None, 5, 5, 64)         0         \n",
            " 2D)                                                             \n",
            "                                                                 \n",
            " conv2d_2 (Conv2D)           (None, 3, 3, 128)         73856     \n",
            "                                                                 \n",
            " flatten (Flatten)           (None, 1152)              0         \n",
            "                                                                 \n",
            " dense (Dense)               (None, 10)                11530     \n",
            "                                                                 \n",
            "=================================================================\n",
            "Total params: 104,202\n",
            "Trainable params: 104,202\n",
            "Non-trainable params: 0\n",
            "_________________________________________________________________\n"
          ]
        }
      ],
      "source": [
        "model.summary()"
      ]
    },
    {
      "cell_type": "markdown",
      "metadata": {
        "id": "WEta4xeDirDB"
      },
      "source": [
        "**Training the convnet on MNIST images**"
      ]
    },
    {
      "cell_type": "code",
      "execution_count": 3,
      "metadata": {
        "id": "0Y7LIq2QirDB",
        "colab": {
          "base_uri": "https://localhost:8080/"
        },
        "outputId": "f5d1cac1-bffe-4157-bd24-18973e7e1b7a"
      },
      "outputs": [
        {
          "output_type": "stream",
          "name": "stdout",
          "text": [
            "Downloading data from https://storage.googleapis.com/tensorflow/tf-keras-datasets/mnist.npz\n",
            "11493376/11490434 [==============================] - 0s 0us/step\n",
            "11501568/11490434 [==============================] - 0s 0us/step\n",
            "Epoch 1/5\n",
            "938/938 [==============================] - 18s 9ms/step - loss: 0.1560 - accuracy: 0.9515\n",
            "Epoch 2/5\n",
            "938/938 [==============================] - 7s 8ms/step - loss: 0.0429 - accuracy: 0.9868\n",
            "Epoch 3/5\n",
            "938/938 [==============================] - 7s 8ms/step - loss: 0.0294 - accuracy: 0.9908\n",
            "Epoch 4/5\n",
            "938/938 [==============================] - 7s 8ms/step - loss: 0.0225 - accuracy: 0.9936\n",
            "Epoch 5/5\n",
            "938/938 [==============================] - 7s 8ms/step - loss: 0.0173 - accuracy: 0.9945\n"
          ]
        },
        {
          "output_type": "execute_result",
          "data": {
            "text/plain": [
              "<keras.callbacks.History at 0x7f781021fed0>"
            ]
          },
          "metadata": {},
          "execution_count": 3
        }
      ],
      "source": [
        "from tensorflow.keras.datasets import mnist\n",
        "\n",
        "(train_images, train_labels), (test_images, test_labels) = mnist.load_data()\n",
        "train_images = train_images.reshape((60000, 28, 28, 1))\n",
        "train_images = train_images.astype(\"float32\") / 255\n",
        "test_images = test_images.reshape((10000, 28, 28, 1))\n",
        "test_images = test_images.astype(\"float32\") / 255\n",
        "model.compile(optimizer=\"rmsprop\",\n",
        "    loss=\"sparse_categorical_crossentropy\",\n",
        "    metrics=[\"accuracy\"])\n",
        "model.fit(train_images, train_labels, epochs=5, batch_size=64)"
      ]
    },
    {
      "cell_type": "markdown",
      "metadata": {
        "id": "VZbQ9VEyirDC"
      },
      "source": [
        "**Evaluating the convnet**"
      ]
    },
    {
      "cell_type": "code",
      "execution_count": 4,
      "metadata": {
        "id": "VFYY3Cc1irDC",
        "colab": {
          "base_uri": "https://localhost:8080/"
        },
        "outputId": "f8ad6a88-0640-4187-d642-c2068bbc3de9"
      },
      "outputs": [
        {
          "output_type": "stream",
          "name": "stdout",
          "text": [
            "313/313 [==============================] - 1s 4ms/step - loss: 0.0261 - accuracy: 0.9926\n",
            "Test accuracy: 0.993\n"
          ]
        }
      ],
      "source": [
        "test_loss, test_acc = model.evaluate(test_images, test_labels)\n",
        "print(f\"Test accuracy: {test_acc:.3f}\")"
      ]
    },
    {
      "cell_type": "markdown",
      "metadata": {
        "id": "JlupDnXYirDD"
      },
      "source": [
        "### The convolution operation"
      ]
    },
    {
      "cell_type": "markdown",
      "metadata": {
        "id": "fezB6kPSirDD"
      },
      "source": [
        "#### Understanding border effects and padding"
      ]
    },
    {
      "cell_type": "markdown",
      "metadata": {
        "id": "DYsqffwyirDE"
      },
      "source": [
        "#### Understanding convolution strides"
      ]
    },
    {
      "cell_type": "markdown",
      "metadata": {
        "id": "Mwcpt2sDirDE"
      },
      "source": [
        "### The max-pooling operation"
      ]
    },
    {
      "cell_type": "markdown",
      "metadata": {
        "id": "62lcoaPDirDE"
      },
      "source": [
        "**An incorrectly structured convnet missing its max-pooling layers**"
      ]
    },
    {
      "cell_type": "code",
      "execution_count": 5,
      "metadata": {
        "id": "xSjPBAWtirDF"
      },
      "outputs": [],
      "source": [
        "inputs = keras.Input(shape=(28, 28, 1))\n",
        "x = layers.Conv2D(filters=32, kernel_size=3, activation=\"relu\")(inputs)\n",
        "x = layers.Conv2D(filters=64, kernel_size=3, activation=\"relu\")(x)\n",
        "x = layers.Conv2D(filters=128, kernel_size=3, activation=\"relu\")(x)\n",
        "x = layers.Flatten()(x)\n",
        "outputs = layers.Dense(10, activation=\"softmax\")(x)\n",
        "model_no_max_pool = keras.Model(inputs=inputs, outputs=outputs)"
      ]
    },
    {
      "cell_type": "code",
      "execution_count": 6,
      "metadata": {
        "id": "jFMQPR-9irDG",
        "colab": {
          "base_uri": "https://localhost:8080/"
        },
        "outputId": "b8765084-fae6-45bc-e016-20605f24bb1c"
      },
      "outputs": [
        {
          "output_type": "stream",
          "name": "stdout",
          "text": [
            "Model: \"model_1\"\n",
            "_________________________________________________________________\n",
            " Layer (type)                Output Shape              Param #   \n",
            "=================================================================\n",
            " input_2 (InputLayer)        [(None, 28, 28, 1)]       0         \n",
            "                                                                 \n",
            " conv2d_3 (Conv2D)           (None, 26, 26, 32)        320       \n",
            "                                                                 \n",
            " conv2d_4 (Conv2D)           (None, 24, 24, 64)        18496     \n",
            "                                                                 \n",
            " conv2d_5 (Conv2D)           (None, 22, 22, 128)       73856     \n",
            "                                                                 \n",
            " flatten_1 (Flatten)         (None, 61952)             0         \n",
            "                                                                 \n",
            " dense_1 (Dense)             (None, 10)                619530    \n",
            "                                                                 \n",
            "=================================================================\n",
            "Total params: 712,202\n",
            "Trainable params: 712,202\n",
            "Non-trainable params: 0\n",
            "_________________________________________________________________\n"
          ]
        }
      ],
      "source": [
        "model_no_max_pool.summary()"
      ]
    },
    {
      "cell_type": "markdown",
      "metadata": {
        "id": "LtWaaMhEirDG"
      },
      "source": [
        "## Training a convnet from scratch on a small dataset"
      ]
    },
    {
      "cell_type": "markdown",
      "metadata": {
        "id": "CLhAQYr3irDG"
      },
      "source": [
        "### The relevance of deep learning for small-data problems"
      ]
    },
    {
      "cell_type": "markdown",
      "metadata": {
        "id": "XCWAFqgrirDH"
      },
      "source": [
        "### Downloading the data"
      ]
    },
    {
      "cell_type": "code",
      "execution_count": 7,
      "metadata": {
        "id": "on2MpG30irDH",
        "colab": {
          "resources": {
            "http://localhost:8080/nbextensions/google.colab/files.js": {
              "data": "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",
              "ok": true,
              "headers": [
                [
                  "content-type",
                  "application/javascript"
                ]
              ],
              "status": 200,
              "status_text": ""
            }
          },
          "base_uri": "https://localhost:8080/",
          "height": 110
        },
        "outputId": "5de92c1e-2249-4b96-9ef9-bbb7a80323f2"
      },
      "outputs": [
        {
          "output_type": "display_data",
          "data": {
            "text/plain": [
              "<IPython.core.display.HTML object>"
            ],
            "text/html": [
              "\n",
              "     <input type=\"file\" id=\"files-d7de615a-e814-45fb-b43c-22af3c28284f\" name=\"files[]\" multiple disabled\n",
              "        style=\"border:none\" />\n",
              "     <output id=\"result-d7de615a-e814-45fb-b43c-22af3c28284f\">\n",
              "      Upload widget is only available when the cell has been executed in the\n",
              "      current browser session. Please rerun this cell to enable.\n",
              "      </output>\n",
              "      <script src=\"/nbextensions/google.colab/files.js\"></script> "
            ]
          },
          "metadata": {}
        },
        {
          "output_type": "stream",
          "name": "stdout",
          "text": [
            "Saving kaggle.json to kaggle.json\n"
          ]
        },
        {
          "output_type": "execute_result",
          "data": {
            "text/plain": [
              "{'kaggle.json': b'{\"username\":\"taliadagan\",\"key\":\"144955bcb9267af3c88b94ee0f23c787\"}'}"
            ]
          },
          "metadata": {},
          "execution_count": 7
        }
      ],
      "source": [
        "from google.colab import files\n",
        "files.upload()"
      ]
    },
    {
      "cell_type": "code",
      "execution_count": 8,
      "metadata": {
        "id": "pMGUusu2irDH"
      },
      "outputs": [],
      "source": [
        "!mkdir ~/.kaggle\n",
        "!cp kaggle.json ~/.kaggle/\n",
        "!chmod 600 ~/.kaggle/kaggle.json"
      ]
    },
    {
      "cell_type": "code",
      "execution_count": 9,
      "metadata": {
        "id": "mOWDJfPnirDI",
        "colab": {
          "base_uri": "https://localhost:8080/"
        },
        "outputId": "c68774ef-87e2-41aa-f540-19f049c60ec7"
      },
      "outputs": [
        {
          "output_type": "stream",
          "name": "stdout",
          "text": [
            "Downloading dogs-vs-cats.zip to /content\n",
            " 99% 801M/812M [00:17<00:00, 72.3MB/s]\n",
            "100% 812M/812M [00:18<00:00, 45.8MB/s]\n"
          ]
        }
      ],
      "source": [
        "!kaggle competitions download -c dogs-vs-cats"
      ]
    },
    {
      "cell_type": "code",
      "execution_count": 10,
      "metadata": {
        "id": "-CNwKvfBirDI"
      },
      "outputs": [],
      "source": [
        "!unzip -qq dogs-vs-cats.zip"
      ]
    },
    {
      "cell_type": "code",
      "source": [
        "!unzip -qq test1.zip"
      ],
      "metadata": {
        "id": "djqE0gtx2S37"
      },
      "execution_count": 11,
      "outputs": []
    },
    {
      "cell_type": "code",
      "source": [
        "!unzip -qq train.zip"
      ],
      "metadata": {
        "id": "PjAKcTmt2TCH"
      },
      "execution_count": 12,
      "outputs": []
    },
    {
      "cell_type": "markdown",
      "metadata": {
        "id": "kwuuRd92irDI"
      },
      "source": [
        "# **Question 1** \n",
        "Use any technique to reduce \n",
        "overfitting and improve performance in developing a network that you train from scratch. What performance did you achieve?  \n",
        "\n",
        "\n",
        "\n"
      ]
    },
    {
      "cell_type": "code",
      "execution_count": 13,
      "metadata": {
        "id": "Cj0yVpyairDJ"
      },
      "outputs": [],
      "source": [
        "import os, shutil, pathlib\n",
        "\n",
        "original_dir = pathlib.Path(\"train\")\n",
        "new_base_dir = pathlib.Path(\"cats_vs_dogs_small\")\n",
        "\n",
        "def make_subset(subset_name, start_index, end_index):\n",
        "    for category in (\"cat\", \"dog\"):\n",
        "        dir = new_base_dir / subset_name / category\n",
        "        os.makedirs(dir)\n",
        "        fnames = [f\"{category}.{i}.jpg\" for i in range(start_index, end_index)]\n",
        "        for fname in fnames:\n",
        "            shutil.copyfile(src=original_dir / fname,\n",
        "                            dst=dir / fname)\n",
        "\n",
        "make_subset(\"train\", start_index=0, end_index=1000)\n",
        "make_subset(\"validation\", start_index=1000, end_index=1500)\n",
        "make_subset(\"test\", start_index=1500, end_index=2000)"
      ]
    },
    {
      "cell_type": "markdown",
      "metadata": {
        "id": "PxukqKpBirDJ"
      },
      "source": [
        "### Building the model"
      ]
    },
    {
      "cell_type": "code",
      "source": [
        "from tensorflow.keras.utils import image_dataset_from_directory\n",
        "\n",
        "train_dataset = image_dataset_from_directory(\n",
        "    new_base_dir / \"train\",\n",
        "    image_size=(180, 180),\n",
        "    batch_size=32)\n",
        "validation_dataset = image_dataset_from_directory(\n",
        "    new_base_dir / \"validation\",\n",
        "    image_size=(180, 180),\n",
        "    batch_size=32)\n",
        "test_dataset = image_dataset_from_directory(\n",
        "    new_base_dir / \"test\",\n",
        "    image_size=(180, 180),\n",
        "    batch_size=32)"
      ],
      "metadata": {
        "id": "dUl5OBKr645Y",
        "colab": {
          "base_uri": "https://localhost:8080/"
        },
        "outputId": "41a5bfc8-d7ef-49ea-fa1f-d8e6b5783542"
      },
      "execution_count": 14,
      "outputs": [
        {
          "output_type": "stream",
          "name": "stdout",
          "text": [
            "Found 2000 files belonging to 2 classes.\n",
            "Found 1000 files belonging to 2 classes.\n",
            "Found 1000 files belonging to 2 classes.\n"
          ]
        }
      ]
    },
    {
      "cell_type": "code",
      "source": [
        "#1000 samples "
      ],
      "metadata": {
        "id": "b-2SH-Tr65DJ"
      },
      "execution_count": 15,
      "outputs": []
    },
    {
      "cell_type": "code",
      "source": [
        "import numpy as np\n",
        "import tensorflow as tf\n",
        "random_numbers = np.random.normal(size=(1000, 16))\n",
        "dataset = tf.data.Dataset.from_tensor_slices(random_numbers)\n"
      ],
      "metadata": {
        "id": "dGaejJ4F65Mi"
      },
      "execution_count": 16,
      "outputs": []
    },
    {
      "cell_type": "code",
      "source": [
        "\n",
        "for i, element in enumerate(dataset):\n",
        "    print(element.shape)\n",
        "    if i >= 2:\n",
        "        break"
      ],
      "metadata": {
        "id": "NCYbULMf65SE",
        "colab": {
          "base_uri": "https://localhost:8080/"
        },
        "outputId": "a6dfff12-484c-4f2c-a35f-ce25aedbc5ba"
      },
      "execution_count": 17,
      "outputs": [
        {
          "output_type": "stream",
          "name": "stdout",
          "text": [
            "(16,)\n",
            "(16,)\n",
            "(16,)\n"
          ]
        }
      ]
    },
    {
      "cell_type": "code",
      "source": [
        "#32 size \n",
        "batched_dataset = dataset.batch(32)\n",
        "for i, element in enumerate(batched_dataset):\n",
        "    print(element.shape)\n",
        "    if i >= 2:\n",
        "        break"
      ],
      "metadata": {
        "id": "1DNTtksk7X8Q",
        "colab": {
          "base_uri": "https://localhost:8080/"
        },
        "outputId": "d1487c0f-707a-465f-c22c-8d71ec57091f"
      },
      "execution_count": 18,
      "outputs": [
        {
          "output_type": "stream",
          "name": "stdout",
          "text": [
            "(32, 16)\n",
            "(32, 16)\n",
            "(32, 16)\n"
          ]
        }
      ]
    },
    {
      "cell_type": "code",
      "source": [
        "reshaped_dataset = dataset.map(lambda x: tf.reshape(x, (4, 4)))\n",
        "for i, element in enumerate(reshaped_dataset):\n",
        "    print(element.shape)\n",
        "    if i >= 2:\n",
        "        break"
      ],
      "metadata": {
        "id": "rB56KDKA7YEZ",
        "colab": {
          "base_uri": "https://localhost:8080/"
        },
        "outputId": "9695b158-104d-4224-eb14-ec8e5afb364e"
      },
      "execution_count": 19,
      "outputs": [
        {
          "output_type": "stream",
          "name": "stdout",
          "text": [
            "(4, 4)\n",
            "(4, 4)\n",
            "(4, 4)\n"
          ]
        }
      ]
    },
    {
      "cell_type": "code",
      "source": [
        "#displaying shapes \n",
        "for data_batch, labels_batch in train_dataset:\n",
        "    print(\"data batch shape:\", data_batch.shape)\n",
        "    print(\"labels batch shape:\", labels_batch.shape)\n",
        "    break"
      ],
      "metadata": {
        "id": "Xa4RY7jU7jE0",
        "colab": {
          "base_uri": "https://localhost:8080/"
        },
        "outputId": "4b597b40-f953-453b-9167-09fc4c944dd2"
      },
      "execution_count": 20,
      "outputs": [
        {
          "output_type": "stream",
          "name": "stdout",
          "text": [
            "data batch shape: (32, 180, 180, 3)\n",
            "labels batch shape: (32,)\n"
          ]
        }
      ]
    },
    {
      "cell_type": "markdown",
      "metadata": {
        "id": "XHY00iUtirDJ"
      },
      "source": [
        "**Instantiating a small convnet for dogs vs. cats classification**"
      ]
    },
    {
      "cell_type": "code",
      "execution_count": 21,
      "metadata": {
        "id": "DPSMVYrPirDK"
      },
      "outputs": [],
      "source": [
        "from tensorflow import keras\n",
        "from tensorflow.keras import layers\n",
        "\n",
        "inputs = keras.Input(shape=(180, 180, 3))\n",
        "x = layers.Rescaling(1./255)(inputs)\n",
        "x = layers.Conv2D(filters=32, kernel_size=3, activation=\"relu\")(x)\n",
        "x = layers.MaxPooling2D(pool_size=2)(x)\n",
        "x = layers.Conv2D(filters=64, kernel_size=3, activation=\"relu\")(x)\n",
        "x = layers.MaxPooling2D(pool_size=2)(x)\n",
        "x = layers.Conv2D(filters=128, kernel_size=3, activation=\"relu\")(x)\n",
        "x = layers.MaxPooling2D(pool_size=2)(x)\n",
        "x = layers.Conv2D(filters=256, kernel_size=3, activation=\"relu\")(x)\n",
        "x = layers.MaxPooling2D(pool_size=2)(x)\n",
        "x = layers.Conv2D(filters=256, kernel_size=3, activation=\"relu\")(x)\n",
        "x = layers.Flatten()(x)\n",
        "x = layers.Dropout(0.5)(x)\n",
        "outputs = layers.Dense(1, activation=\"sigmoid\")(x)\n",
        "model = keras.Model(inputs=inputs, outputs=outputs)"
      ]
    },
    {
      "cell_type": "code",
      "execution_count": 22,
      "metadata": {
        "id": "vVODnCNdirDK",
        "colab": {
          "base_uri": "https://localhost:8080/"
        },
        "outputId": "94b48cfc-aea2-448a-a318-c5d9d156f1e6"
      },
      "outputs": [
        {
          "output_type": "stream",
          "name": "stdout",
          "text": [
            "Model: \"model_2\"\n",
            "_________________________________________________________________\n",
            " Layer (type)                Output Shape              Param #   \n",
            "=================================================================\n",
            " input_3 (InputLayer)        [(None, 180, 180, 3)]     0         \n",
            "                                                                 \n",
            " rescaling (Rescaling)       (None, 180, 180, 3)       0         \n",
            "                                                                 \n",
            " conv2d_6 (Conv2D)           (None, 178, 178, 32)      896       \n",
            "                                                                 \n",
            " max_pooling2d_2 (MaxPooling  (None, 89, 89, 32)       0         \n",
            " 2D)                                                             \n",
            "                                                                 \n",
            " conv2d_7 (Conv2D)           (None, 87, 87, 64)        18496     \n",
            "                                                                 \n",
            " max_pooling2d_3 (MaxPooling  (None, 43, 43, 64)       0         \n",
            " 2D)                                                             \n",
            "                                                                 \n",
            " conv2d_8 (Conv2D)           (None, 41, 41, 128)       73856     \n",
            "                                                                 \n",
            " max_pooling2d_4 (MaxPooling  (None, 20, 20, 128)      0         \n",
            " 2D)                                                             \n",
            "                                                                 \n",
            " conv2d_9 (Conv2D)           (None, 18, 18, 256)       295168    \n",
            "                                                                 \n",
            " max_pooling2d_5 (MaxPooling  (None, 9, 9, 256)        0         \n",
            " 2D)                                                             \n",
            "                                                                 \n",
            " conv2d_10 (Conv2D)          (None, 7, 7, 256)         590080    \n",
            "                                                                 \n",
            " flatten_2 (Flatten)         (None, 12544)             0         \n",
            "                                                                 \n",
            " dropout (Dropout)           (None, 12544)             0         \n",
            "                                                                 \n",
            " dense_2 (Dense)             (None, 1)                 12545     \n",
            "                                                                 \n",
            "=================================================================\n",
            "Total params: 991,041\n",
            "Trainable params: 991,041\n",
            "Non-trainable params: 0\n",
            "_________________________________________________________________\n"
          ]
        }
      ],
      "source": [
        "model.summary()"
      ]
    },
    {
      "cell_type": "markdown",
      "metadata": {
        "id": "ak3pBhAKirDL"
      },
      "source": [
        "**Configuring the model for training**"
      ]
    },
    {
      "cell_type": "code",
      "execution_count": 23,
      "metadata": {
        "id": "5SmnmvfiirDL"
      },
      "outputs": [],
      "source": [
        "model.compile(loss=\"binary_crossentropy\",\n",
        "              optimizer=\"rmsprop\",\n",
        "              metrics=[\"accuracy\"])"
      ]
    },
    {
      "cell_type": "markdown",
      "metadata": {
        "id": "0nVi-2CQirDM"
      },
      "source": [
        "### Data preprocessing"
      ]
    },
    {
      "cell_type": "markdown",
      "metadata": {
        "id": "y5gEndeDirDR"
      },
      "source": [
        "**Fitting the model using a `Dataset`**"
      ]
    },
    {
      "cell_type": "code",
      "execution_count": 24,
      "metadata": {
        "id": "vLOIh0z8irDR",
        "colab": {
          "base_uri": "https://localhost:8080/"
        },
        "outputId": "0b6c617b-da41-428d-a368-e33740097419"
      },
      "outputs": [
        {
          "output_type": "stream",
          "name": "stdout",
          "text": [
            "Epoch 1/30\n",
            "63/63 [==============================] - 11s 124ms/step - loss: 0.7262 - accuracy: 0.5060 - val_loss: 0.6901 - val_accuracy: 0.5040\n",
            "Epoch 2/30\n",
            "63/63 [==============================] - 7s 112ms/step - loss: 0.6981 - accuracy: 0.5430 - val_loss: 0.7308 - val_accuracy: 0.5010\n",
            "Epoch 3/30\n",
            "63/63 [==============================] - 7s 112ms/step - loss: 0.6823 - accuracy: 0.5795 - val_loss: 0.6416 - val_accuracy: 0.6490\n",
            "Epoch 4/30\n",
            "63/63 [==============================] - 7s 110ms/step - loss: 0.6668 - accuracy: 0.6225 - val_loss: 0.7076 - val_accuracy: 0.5300\n",
            "Epoch 5/30\n",
            "63/63 [==============================] - 8s 115ms/step - loss: 0.6814 - accuracy: 0.6680 - val_loss: 0.6313 - val_accuracy: 0.6530\n",
            "Epoch 6/30\n",
            "63/63 [==============================] - 7s 112ms/step - loss: 0.5810 - accuracy: 0.7020 - val_loss: 0.5898 - val_accuracy: 0.6850\n",
            "Epoch 7/30\n",
            "63/63 [==============================] - 7s 113ms/step - loss: 0.5602 - accuracy: 0.7060 - val_loss: 0.5718 - val_accuracy: 0.6860\n",
            "Epoch 8/30\n",
            "63/63 [==============================] - 7s 112ms/step - loss: 0.5250 - accuracy: 0.7425 - val_loss: 0.5806 - val_accuracy: 0.7000\n",
            "Epoch 9/30\n",
            "63/63 [==============================] - 7s 114ms/step - loss: 0.5066 - accuracy: 0.7560 - val_loss: 0.6450 - val_accuracy: 0.6850\n",
            "Epoch 10/30\n",
            "63/63 [==============================] - 7s 113ms/step - loss: 0.4697 - accuracy: 0.7825 - val_loss: 0.6781 - val_accuracy: 0.6740\n",
            "Epoch 11/30\n",
            "63/63 [==============================] - 7s 112ms/step - loss: 0.4354 - accuracy: 0.7965 - val_loss: 0.6996 - val_accuracy: 0.6970\n",
            "Epoch 12/30\n",
            "63/63 [==============================] - 7s 111ms/step - loss: 0.4113 - accuracy: 0.8050 - val_loss: 0.7322 - val_accuracy: 0.7270\n",
            "Epoch 13/30\n",
            "63/63 [==============================] - 7s 113ms/step - loss: 0.3784 - accuracy: 0.8375 - val_loss: 0.5902 - val_accuracy: 0.7250\n",
            "Epoch 14/30\n",
            "63/63 [==============================] - 7s 112ms/step - loss: 0.3441 - accuracy: 0.8420 - val_loss: 0.6564 - val_accuracy: 0.7440\n",
            "Epoch 15/30\n",
            "63/63 [==============================] - 7s 112ms/step - loss: 0.3106 - accuracy: 0.8700 - val_loss: 0.6921 - val_accuracy: 0.7180\n",
            "Epoch 16/30\n",
            "63/63 [==============================] - 7s 113ms/step - loss: 0.2701 - accuracy: 0.8830 - val_loss: 0.6307 - val_accuracy: 0.7460\n",
            "Epoch 17/30\n",
            "63/63 [==============================] - 7s 111ms/step - loss: 0.2330 - accuracy: 0.8950 - val_loss: 0.7074 - val_accuracy: 0.7340\n",
            "Epoch 18/30\n",
            "63/63 [==============================] - 7s 111ms/step - loss: 0.2354 - accuracy: 0.9075 - val_loss: 0.7631 - val_accuracy: 0.7400\n",
            "Epoch 19/30\n",
            "63/63 [==============================] - 7s 110ms/step - loss: 0.1919 - accuracy: 0.9210 - val_loss: 0.9316 - val_accuracy: 0.7100\n",
            "Epoch 20/30\n",
            "63/63 [==============================] - 7s 112ms/step - loss: 0.1629 - accuracy: 0.9360 - val_loss: 0.8322 - val_accuracy: 0.7360\n",
            "Epoch 21/30\n",
            "63/63 [==============================] - 7s 111ms/step - loss: 0.1483 - accuracy: 0.9455 - val_loss: 0.8908 - val_accuracy: 0.7530\n",
            "Epoch 22/30\n",
            "63/63 [==============================] - 7s 113ms/step - loss: 0.1302 - accuracy: 0.9510 - val_loss: 1.0407 - val_accuracy: 0.7430\n",
            "Epoch 23/30\n",
            "63/63 [==============================] - 7s 113ms/step - loss: 0.1232 - accuracy: 0.9490 - val_loss: 1.0130 - val_accuracy: 0.7420\n",
            "Epoch 24/30\n",
            "63/63 [==============================] - 7s 112ms/step - loss: 0.1031 - accuracy: 0.9670 - val_loss: 1.0068 - val_accuracy: 0.7520\n",
            "Epoch 25/30\n",
            "63/63 [==============================] - 8s 114ms/step - loss: 0.1048 - accuracy: 0.9570 - val_loss: 1.0959 - val_accuracy: 0.7270\n",
            "Epoch 26/30\n",
            "63/63 [==============================] - 7s 112ms/step - loss: 0.0997 - accuracy: 0.9645 - val_loss: 1.1321 - val_accuracy: 0.7330\n",
            "Epoch 27/30\n",
            "63/63 [==============================] - 7s 111ms/step - loss: 0.0954 - accuracy: 0.9655 - val_loss: 1.4240 - val_accuracy: 0.7110\n",
            "Epoch 28/30\n",
            "63/63 [==============================] - 7s 112ms/step - loss: 0.0887 - accuracy: 0.9690 - val_loss: 1.2156 - val_accuracy: 0.7590\n",
            "Epoch 29/30\n",
            "63/63 [==============================] - 7s 111ms/step - loss: 0.0916 - accuracy: 0.9680 - val_loss: 1.4055 - val_accuracy: 0.7180\n",
            "Epoch 30/30\n",
            "63/63 [==============================] - 7s 111ms/step - loss: 0.0640 - accuracy: 0.9775 - val_loss: 1.3659 - val_accuracy: 0.7500\n"
          ]
        }
      ],
      "source": [
        "from keras.callbacks import ModelCheckpoint, EarlyStopping\n",
        "callbacks = [\n",
        "    keras.callbacks.ModelCheckpoint(\n",
        "        filepath=\"convnet_from_scratch.keras\",\n",
        "        save_best_only=True,\n",
        "        monitor=\"val_loss\")\n",
        "]\n",
        "history = model.fit(\n",
        "    train_dataset,\n",
        "    epochs=30,\n",
        "    validation_data=validation_dataset,\n",
        "    callbacks=callbacks)"
      ]
    },
    {
      "cell_type": "markdown",
      "metadata": {
        "id": "4cor0zu9irDS"
      },
      "source": [
        "**Displaying curves of loss and accuracy during training**"
      ]
    },
    {
      "cell_type": "code",
      "execution_count": 25,
      "metadata": {
        "id": "mKOTc_BWirDS",
        "colab": {
          "base_uri": "https://localhost:8080/",
          "height": 1000
        },
        "outputId": "f0721a6d-f1b2-4464-9ceb-5566ae98267a"
      },
      "outputs": [
        {
          "output_type": "display_data",
          "data": {
            "text/plain": [
              "<Figure size 720x720 with 1 Axes>"
            ],
            "image/png": "[encoded data removed]"
          },
          "metadata": {
            "needs_background": "light"
          }
        },
        {
          "output_type": "display_data",
          "data": {
            "text/plain": [
              "<Figure size 432x288 with 0 Axes>"
            ]
          },
          "metadata": {}
        },
        {
          "output_type": "display_data",
          "data": {
            "text/plain": [
              "<Figure size 720x720 with 1 Axes>"
            ],
            "image/png": "[encoded data removed]"
          },
          "metadata": {
            "needs_background": "light"
          }
        }
      ],
      "source": [
        "import matplotlib.pyplot as plt\n",
        "plt.figure(figsize=(10, 10))\n",
        "accuracy = history.history[\"accuracy\"]\n",
        "val_accuracy = history.history[\"val_accuracy\"]\n",
        "loss = history.history[\"loss\"]\n",
        "val_loss = history.history[\"val_loss\"]\n",
        "epochs = range(1, len(accuracy) + 1)\n",
        "plt.plot(epochs, accuracy, \"bo\", label=\"Training accuracy\")\n",
        "plt.plot(epochs, val_accuracy, \"b\", label=\"Validation accuracy\")\n",
        "plt.title(\"Training and validation accuracy\")\n",
        "plt.legend()\n",
        "plt.figure()\n",
        "plt.figure(figsize=(10, 10))\n",
        "plt.plot(epochs, loss, \"bo\", label=\"Training loss\")\n",
        "plt.plot(epochs, val_loss, \"b\", label=\"Validation loss\")\n",
        "plt.title(\"Training and validation loss\")\n",
        "plt.legend()\n",
        "plt.show()"
      ]
    },
    {
      "cell_type": "markdown",
      "metadata": {
        "id": "lhYj57R-irDS"
      },
      "source": [
        "**Evaluating the model on the test set**"
      ]
    },
    {
      "cell_type": "code",
      "execution_count": 26,
      "metadata": {
        "id": "St-Rbee5irDT",
        "colab": {
          "base_uri": "https://localhost:8080/"
        },
        "outputId": "604a9a01-abd8-41b9-9f22-0d3e30587fd1"
      },
      "outputs": [
        {
          "output_type": "stream",
          "name": "stdout",
          "text": [
            "32/32 [==============================] - 2s 47ms/step - loss: 0.6050 - accuracy: 0.6890\n",
            "Test accuracy: 0.689\n"
          ]
        }
      ],
      "source": [
        "test_model = keras.models.load_model(\"convnet_from_scratch.keras\")\n",
        "test_loss, test_acc = test_model.evaluate(test_dataset)\n",
        "print(f\"Test accuracy: {test_acc:.3f}\")"
      ]
    },
    {
      "cell_type": "markdown",
      "metadata": {
        "id": "okvDGAkBirDT"
      },
      "source": [
        "## The performance that I achieved with a training sample of 1,000 and a validation sample of 500 and a test sample of 500 was 68.9% accuracy for test accuracy."
      ]
    },
    {
      "cell_type": "markdown",
      "source": [
        "## QUESTION #2\n",
        "Increasing the training sample size with the same validation anf test samples.\n"
      ],
      "metadata": {
        "id": "8i0AkTFv85iC"
      }
    },
    {
      "cell_type": "markdown",
      "metadata": {
        "id": "HStWwxE0irDT"
      },
      "source": [
        "**Define a data augmentation stage to add to an image model**"
      ]
    },
    {
      "cell_type": "code",
      "source": [
        "import os, shutil, pathlib\n",
        "\n",
        "shutil.rmtree(\"./cats_vs_dogs_small_Q2\", ignore_errors=True)\n",
        "\n",
        "original_dir = pathlib.Path(\"train\")\n",
        "new_base_dir = pathlib.Path(\"cats_vs_dogs_small_Q2\")\n",
        "\n",
        "def make_subset(subset_name, start_index, end_index):\n",
        "    for category in (\"cat\", \"dog\"):\n",
        "        dir = new_base_dir / subset_name / category\n",
        "        os.makedirs(dir)\n",
        "        fnames = [f\"{category}.{i}.jpg\" for i in range(start_index, end_index)]\n",
        "        for fname in fnames:\n",
        "            shutil.copyfile(src=original_dir / fname,\n",
        "                            dst=dir / fname)\n",
        "#increasing the sample size to 1600\n",
        "make_subset(\"train\", start_index=0, end_index=1600)\n",
        "make_subset(\"validation\", start_index=1600, end_index=2000)\n",
        "make_subset(\"test\", start_index=2000, end_index=2500)\n"
      ],
      "metadata": {
        "id": "bos7RHve9AZD"
      },
      "execution_count": 27,
      "outputs": []
    },
    {
      "cell_type": "code",
      "execution_count": 28,
      "metadata": {
        "id": "S_B9Z5uZirDU"
      },
      "outputs": [],
      "source": [
        "data_augmentation = keras.Sequential(\n",
        "    [\n",
        "        layers.RandomFlip(\"horizontal\"),\n",
        "        layers.RandomRotation(0.1),\n",
        "        layers.RandomZoom(0.2),\n",
        "    ]\n",
        ")"
      ]
    },
    {
      "cell_type": "markdown",
      "metadata": {
        "id": "rpaFpDVkirDU"
      },
      "source": [
        "**Displaying some randomly augmented training images**"
      ]
    },
    {
      "cell_type": "code",
      "execution_count": 29,
      "metadata": {
        "id": "48cZvQJAirDU",
        "colab": {
          "base_uri": "https://localhost:8080/",
          "height": 575
        },
        "outputId": "45f1a430-dfef-4745-df91-601c16aeff23"
      },
      "outputs": [
        {
          "output_type": "display_data",
          "data": {
            "text/plain": [
              "<Figure size 720x720 with 9 Axes>"
            ],
            "image/png": "[encoded data removed]"
          },
          "metadata": {
            "needs_background": "light"
          }
        }
      ],
      "source": [
        "plt.figure(figsize=(10, 10))\n",
        "for images, _ in train_dataset.take(1):\n",
        "    for i in range(9):\n",
        "        augmented_images = data_augmentation(images)\n",
        "        ax = plt.subplot(3, 3, i + 1)\n",
        "        plt.imshow(augmented_images[0].numpy().astype(\"uint8\"))\n",
        "        plt.axis(\"off\")"
      ]
    },
    {
      "cell_type": "markdown",
      "metadata": {
        "id": "VUUmsXgmirDU"
      },
      "source": [
        "**Defining a new convnet that includes image augmentation and dropout**"
      ]
    },
    {
      "cell_type": "code",
      "execution_count": 30,
      "metadata": {
        "id": "SnS7eImrirDV"
      },
      "outputs": [],
      "source": [
        "inputs = keras.Input(shape=(180, 180, 3))\n",
        "x = data_augmentation(inputs)\n",
        "x = layers.Rescaling(1./255)(x)\n",
        "x = layers.Conv2D(filters=32, kernel_size=3, activation=\"relu\")(x)\n",
        "x = layers.MaxPooling2D(pool_size=2)(x)\n",
        "x = layers.Conv2D(filters=64, kernel_size=3, activation=\"relu\")(x)\n",
        "x = layers.MaxPooling2D(pool_size=2)(x)\n",
        "x = layers.Conv2D(filters=128, kernel_size=3, activation=\"relu\")(x)\n",
        "x = layers.MaxPooling2D(pool_size=2)(x)\n",
        "x = layers.Conv2D(filters=256, kernel_size=3, activation=\"relu\")(x)\n",
        "x = layers.MaxPooling2D(pool_size=2)(x)\n",
        "x = layers.Conv2D(filters=256, kernel_size=3, activation=\"relu\")(x)\n",
        "x = layers.Flatten()(x)\n",
        "x = layers.Dropout(0.5)(x)\n",
        "outputs = layers.Dense(1, activation=\"sigmoid\")(x)\n",
        "model = keras.Model(inputs=inputs, outputs=outputs)\n",
        "\n",
        "model.compile(loss=\"binary_crossentropy\",\n",
        "              optimizer=\"rmsprop\",\n",
        "              metrics=[\"accuracy\"])"
      ]
    },
    {
      "cell_type": "markdown",
      "metadata": {
        "id": "X21-RDnsirDV"
      },
      "source": [
        "**Training the regularized convnet**"
      ]
    },
    {
      "cell_type": "code",
      "execution_count": 31,
      "metadata": {
        "id": "cCWB0myxirDV",
        "colab": {
          "base_uri": "https://localhost:8080/"
        },
        "outputId": "172aca3b-1a3b-47ee-95f0-d3342447c791"
      },
      "outputs": [
        {
          "output_type": "stream",
          "name": "stdout",
          "text": [
            "Epoch 1/50\n",
            "63/63 [==============================] - 10s 122ms/step - loss: 0.6995 - accuracy: 0.5150 - val_loss: 1.0215 - val_accuracy: 0.5000\n",
            "Epoch 2/50\n",
            "63/63 [==============================] - 8s 120ms/step - loss: 0.7031 - accuracy: 0.5470 - val_loss: 0.6979 - val_accuracy: 0.5060\n",
            "Epoch 3/50\n",
            "63/63 [==============================] - 8s 120ms/step - loss: 0.6805 - accuracy: 0.5570 - val_loss: 0.6584 - val_accuracy: 0.5760\n",
            "Epoch 4/50\n",
            "63/63 [==============================] - 8s 118ms/step - loss: 0.6660 - accuracy: 0.6080 - val_loss: 0.7408 - val_accuracy: 0.5240\n",
            "Epoch 5/50\n",
            "63/63 [==============================] - 8s 120ms/step - loss: 0.6315 - accuracy: 0.6455 - val_loss: 0.6437 - val_accuracy: 0.6110\n",
            "Epoch 6/50\n",
            "63/63 [==============================] - 8s 120ms/step - loss: 0.6305 - accuracy: 0.6495 - val_loss: 0.6086 - val_accuracy: 0.6790\n",
            "Epoch 7/50\n",
            "63/63 [==============================] - 8s 120ms/step - loss: 0.6014 - accuracy: 0.6750 - val_loss: 0.5769 - val_accuracy: 0.6860\n",
            "Epoch 8/50\n",
            "63/63 [==============================] - 8s 120ms/step - loss: 0.6037 - accuracy: 0.6795 - val_loss: 0.5745 - val_accuracy: 0.7090\n",
            "Epoch 9/50\n",
            "63/63 [==============================] - 8s 117ms/step - loss: 0.5853 - accuracy: 0.7015 - val_loss: 0.5572 - val_accuracy: 0.7090\n",
            "Epoch 10/50\n",
            "63/63 [==============================] - 8s 118ms/step - loss: 0.5760 - accuracy: 0.6925 - val_loss: 0.5504 - val_accuracy: 0.7100\n",
            "Epoch 11/50\n",
            "63/63 [==============================] - 8s 117ms/step - loss: 0.5491 - accuracy: 0.7240 - val_loss: 0.9998 - val_accuracy: 0.6060\n",
            "Epoch 12/50\n",
            "63/63 [==============================] - 8s 116ms/step - loss: 0.5524 - accuracy: 0.7295 - val_loss: 0.5967 - val_accuracy: 0.6830\n",
            "Epoch 13/50\n",
            "63/63 [==============================] - 8s 117ms/step - loss: 0.5325 - accuracy: 0.7360 - val_loss: 0.5438 - val_accuracy: 0.7250\n",
            "Epoch 14/50\n",
            "63/63 [==============================] - 8s 118ms/step - loss: 0.5223 - accuracy: 0.7525 - val_loss: 0.5193 - val_accuracy: 0.7350\n",
            "Epoch 15/50\n",
            "63/63 [==============================] - 8s 116ms/step - loss: 0.5062 - accuracy: 0.7540 - val_loss: 0.5895 - val_accuracy: 0.7450\n",
            "Epoch 16/50\n",
            "63/63 [==============================] - 8s 121ms/step - loss: 0.4955 - accuracy: 0.7570 - val_loss: 0.5284 - val_accuracy: 0.7660\n",
            "Epoch 17/50\n",
            "63/63 [==============================] - 8s 118ms/step - loss: 0.5006 - accuracy: 0.7630 - val_loss: 0.5062 - val_accuracy: 0.7580\n",
            "Epoch 18/50\n",
            "63/63 [==============================] - 8s 118ms/step - loss: 0.4849 - accuracy: 0.7675 - val_loss: 0.4803 - val_accuracy: 0.7800\n",
            "Epoch 19/50\n",
            "63/63 [==============================] - 8s 116ms/step - loss: 0.4684 - accuracy: 0.7730 - val_loss: 0.5590 - val_accuracy: 0.7500\n",
            "Epoch 20/50\n",
            "63/63 [==============================] - 8s 120ms/step - loss: 0.4979 - accuracy: 0.7690 - val_loss: 0.4617 - val_accuracy: 0.7880\n",
            "Epoch 21/50\n",
            "63/63 [==============================] - 8s 119ms/step - loss: 0.4469 - accuracy: 0.7930 - val_loss: 0.4552 - val_accuracy: 0.7870\n",
            "Epoch 22/50\n",
            "63/63 [==============================] - 8s 117ms/step - loss: 0.4550 - accuracy: 0.7990 - val_loss: 0.5808 - val_accuracy: 0.7320\n",
            "Epoch 23/50\n",
            "63/63 [==============================] - 8s 116ms/step - loss: 0.4352 - accuracy: 0.8045 - val_loss: 0.6003 - val_accuracy: 0.7210\n",
            "Epoch 24/50\n",
            "63/63 [==============================] - 8s 118ms/step - loss: 0.4323 - accuracy: 0.8055 - val_loss: 0.5663 - val_accuracy: 0.7620\n",
            "Epoch 25/50\n",
            "63/63 [==============================] - 8s 116ms/step - loss: 0.4106 - accuracy: 0.8155 - val_loss: 0.5038 - val_accuracy: 0.7900\n",
            "Epoch 26/50\n",
            "63/63 [==============================] - 8s 117ms/step - loss: 0.4120 - accuracy: 0.8140 - val_loss: 0.6307 - val_accuracy: 0.6870\n",
            "Epoch 27/50\n",
            "63/63 [==============================] - 8s 116ms/step - loss: 0.4051 - accuracy: 0.8105 - val_loss: 0.4585 - val_accuracy: 0.7980\n",
            "Epoch 28/50\n",
            "63/63 [==============================] - 8s 116ms/step - loss: 0.4096 - accuracy: 0.8230 - val_loss: 0.4602 - val_accuracy: 0.7960\n",
            "Epoch 29/50\n",
            "63/63 [==============================] - 8s 116ms/step - loss: 0.3932 - accuracy: 0.8265 - val_loss: 0.4353 - val_accuracy: 0.8140\n",
            "Epoch 30/50\n",
            "63/63 [==============================] - 8s 119ms/step - loss: 0.3827 - accuracy: 0.8260 - val_loss: 0.4157 - val_accuracy: 0.8290\n",
            "Epoch 31/50\n",
            "63/63 [==============================] - 8s 116ms/step - loss: 0.3887 - accuracy: 0.8250 - val_loss: 0.4965 - val_accuracy: 0.7950\n",
            "Epoch 32/50\n",
            "63/63 [==============================] - 8s 116ms/step - loss: 0.3900 - accuracy: 0.8305 - val_loss: 0.4600 - val_accuracy: 0.8020\n",
            "Epoch 33/50\n",
            "63/63 [==============================] - 8s 117ms/step - loss: 0.3672 - accuracy: 0.8480 - val_loss: 0.5839 - val_accuracy: 0.7830\n",
            "Epoch 34/50\n",
            "63/63 [==============================] - 8s 118ms/step - loss: 0.3471 - accuracy: 0.8615 - val_loss: 0.4410 - val_accuracy: 0.8180\n",
            "Epoch 35/50\n",
            "63/63 [==============================] - 8s 123ms/step - loss: 0.3449 - accuracy: 0.8530 - val_loss: 0.4059 - val_accuracy: 0.8240\n",
            "Epoch 36/50\n",
            "63/63 [==============================] - 8s 120ms/step - loss: 0.3218 - accuracy: 0.8605 - val_loss: 0.4732 - val_accuracy: 0.8080\n",
            "Epoch 37/50\n",
            "63/63 [==============================] - 8s 117ms/step - loss: 0.3573 - accuracy: 0.8530 - val_loss: 0.5980 - val_accuracy: 0.7580\n",
            "Epoch 38/50\n",
            "63/63 [==============================] - 8s 121ms/step - loss: 0.3288 - accuracy: 0.8615 - val_loss: 0.4943 - val_accuracy: 0.7860\n",
            "Epoch 39/50\n",
            "63/63 [==============================] - 8s 119ms/step - loss: 0.3482 - accuracy: 0.8500 - val_loss: 0.4512 - val_accuracy: 0.8300\n",
            "Epoch 40/50\n",
            "63/63 [==============================] - 8s 120ms/step - loss: 0.3120 - accuracy: 0.8745 - val_loss: 0.7848 - val_accuracy: 0.7740\n",
            "Epoch 41/50\n",
            "63/63 [==============================] - 8s 118ms/step - loss: 0.3093 - accuracy: 0.8680 - val_loss: 0.4310 - val_accuracy: 0.8350\n",
            "Epoch 42/50\n",
            "63/63 [==============================] - 8s 118ms/step - loss: 0.3170 - accuracy: 0.8710 - val_loss: 0.5127 - val_accuracy: 0.8060\n",
            "Epoch 43/50\n",
            "63/63 [==============================] - 8s 118ms/step - loss: 0.2832 - accuracy: 0.8775 - val_loss: 0.4471 - val_accuracy: 0.8220\n",
            "Epoch 44/50\n",
            "63/63 [==============================] - 8s 118ms/step - loss: 0.3089 - accuracy: 0.8710 - val_loss: 0.5976 - val_accuracy: 0.7740\n",
            "Epoch 45/50\n",
            "63/63 [==============================] - 8s 116ms/step - loss: 0.2955 - accuracy: 0.8740 - val_loss: 0.5209 - val_accuracy: 0.8320\n",
            "Epoch 46/50\n",
            "63/63 [==============================] - 8s 116ms/step - loss: 0.3030 - accuracy: 0.8620 - val_loss: 0.5471 - val_accuracy: 0.8310\n",
            "Epoch 47/50\n",
            "63/63 [==============================] - 8s 116ms/step - loss: 0.2762 - accuracy: 0.8790 - val_loss: 0.5343 - val_accuracy: 0.8370\n",
            "Epoch 48/50\n",
            "63/63 [==============================] - 8s 119ms/step - loss: 0.2719 - accuracy: 0.8900 - val_loss: 0.4265 - val_accuracy: 0.8420\n",
            "Epoch 49/50\n",
            "63/63 [==============================] - 8s 116ms/step - loss: 0.2752 - accuracy: 0.8800 - val_loss: 0.5633 - val_accuracy: 0.8300\n",
            "Epoch 50/50\n",
            "63/63 [==============================] - 8s 116ms/step - loss: 0.2686 - accuracy: 0.8965 - val_loss: 0.5433 - val_accuracy: 0.8180\n"
          ]
        }
      ],
      "source": [
        "callbacks = [\n",
        "    keras.callbacks.ModelCheckpoint(\n",
        "        filepath=\"convnet_from_scratch_with_augmentation.keras\",\n",
        "        save_best_only=True,\n",
        "        monitor=\"val_loss\")\n",
        "]\n",
        "history = model.fit(\n",
        "    train_dataset,\n",
        "    epochs=50,\n",
        "    validation_data=validation_dataset,\n",
        "    callbacks=callbacks)"
      ]
    },
    {
      "cell_type": "markdown",
      "metadata": {
        "id": "2QVhMJzNirDV"
      },
      "source": [
        "**Evaluating the model on the test set**"
      ]
    },
    {
      "cell_type": "code",
      "execution_count": 32,
      "metadata": {
        "id": "55unw3BRirDV",
        "colab": {
          "base_uri": "https://localhost:8080/"
        },
        "outputId": "8cdbd241-a174-46e8-8606-c128686c66e0"
      },
      "outputs": [
        {
          "output_type": "stream",
          "name": "stdout",
          "text": [
            "32/32 [==============================] - 2s 44ms/step - loss: 0.4782 - accuracy: 0.8030\n",
            "Test accuracy: 0.803\n"
          ]
        }
      ],
      "source": [
        "test_model = keras.models.load_model(\n",
        "    \"convnet_from_scratch_with_augmentation.keras\")\n",
        "test_loss, test_acc = test_model.evaluate(test_dataset)\n",
        "print(f\"Test accuracy: {test_acc:.3f}\")"
      ]
    },
    {
      "cell_type": "markdown",
      "source": [
        "# Increasing the sample size to 1,600 from 1,000 led to a test accuracy of 80.3%. Increasing the sample size led to a more accurate model. \n",
        "\n"
      ],
      "metadata": {
        "id": "wx6aI0M74fh5"
      }
    },
    {
      "cell_type": "markdown",
      "source": [
        "# QUESTION 3###\n",
        "Increasing the sample size to 2,500 achieve a better performance."
      ],
      "metadata": {
        "id": "Kkt8jJd798UU"
      }
    },
    {
      "cell_type": "code",
      "source": [
        "original_dir = pathlib.Path(\"train\")\n",
        "new_base_dir = pathlib.Path(\"cats_vs_dogs_small_Q3\")\n",
        "\n",
        "def make_subset(subset_name, start_index, end_index):\n",
        "    for category in (\"cat\", \"dog\"):\n",
        "        dir = new_base_dir / subset_name / category\n",
        "        os.makedirs(dir)\n",
        "        fnames = [f\"{category}.{i}.jpg\" for i in range(start_index, end_index)]\n",
        "        for fname in fnames:\n",
        "            shutil.copyfile(src=original_dir / fname,\n",
        "                            dst=dir / fname)\n",
        "#Increaseing the training sample to 2,5000 and keeping validation and test same as before. \n",
        "make_subset(\"train\", start_index=0, end_index=2500)\n",
        "make_subset(\"validation\", start_index=2500, end_index=3000)\n",
        "make_subset(\"test\", start_index=3000, end_index=3500)"
      ],
      "metadata": {
        "id": "fFur_kHX-Ima"
      },
      "execution_count": 33,
      "outputs": []
    },
    {
      "cell_type": "code",
      "source": [
        "inputs = keras.Input(shape=(180, 180, 3))\n",
        "x = data_augmentation(inputs)\n",
        "x = layers.Rescaling(1./255)(x)\n",
        "x = layers.Conv2D(filters=32, kernel_size=3, activation=\"relu\")(x)\n",
        "x = layers.MaxPooling2D(pool_size=2)(x)\n",
        "x = layers.Conv2D(filters=64, kernel_size=3, activation=\"relu\")(x)\n",
        "x = layers.MaxPooling2D(pool_size=2)(x)\n",
        "x = layers.Conv2D(filters=128, kernel_size=3, activation=\"relu\")(x)\n",
        "x = layers.MaxPooling2D(pool_size=2)(x)\n",
        "x = layers.Conv2D(filters=256, kernel_size=3, activation=\"relu\")(x)\n",
        "x = layers.MaxPooling2D(pool_size=2)(x)\n",
        "x = layers.Conv2D(filters=256, kernel_size=3, activation=\"relu\")(x)\n",
        "x = layers.Flatten()(x)\n",
        "x = layers.Dropout(0.5)(x)\n",
        "outputs = layers.Dense(1, activation=\"sigmoid\")(x)\n",
        "model = keras.Model(inputs=inputs, outputs=outputs)\n",
        "\n",
        "model.compile(loss=\"binary_crossentropy\",\n",
        "              optimizer=\"adam\",\n",
        "              metrics=[\"accuracy\"])"
      ],
      "metadata": {
        "id": "-8c9oExi-Isb"
      },
      "execution_count": 34,
      "outputs": []
    },
    {
      "cell_type": "code",
      "source": [
        "callbacks = [\n",
        "    keras.callbacks.ModelCheckpoint(\n",
        "        filepath=\"convnet_from_scratch_with_augmentation1.keras\",\n",
        "        save_best_only=True,\n",
        "        monitor=\"val_loss\")\n",
        "]\n",
        "history = model.fit(\n",
        "    train_dataset,\n",
        "    epochs=50,\n",
        "    validation_data=validation_dataset,\n",
        "    callbacks=callbacks)"
      ],
      "metadata": {
        "id": "e0EbOoGG-Iyj",
        "colab": {
          "base_uri": "https://localhost:8080/"
        },
        "outputId": "cad496ea-657c-45cb-bc56-1617c7e393d1"
      },
      "execution_count": 35,
      "outputs": [
        {
          "output_type": "stream",
          "name": "stdout",
          "text": [
            "Epoch 1/50\n",
            "63/63 [==============================] - 9s 119ms/step - loss: 0.6952 - accuracy: 0.4810 - val_loss: 0.6931 - val_accuracy: 0.5000\n",
            "Epoch 2/50\n",
            "63/63 [==============================] - 8s 118ms/step - loss: 0.6933 - accuracy: 0.5005 - val_loss: 0.6866 - val_accuracy: 0.5210\n",
            "Epoch 3/50\n",
            "63/63 [==============================] - 8s 120ms/step - loss: 0.6848 - accuracy: 0.5475 - val_loss: 0.6783 - val_accuracy: 0.5730\n",
            "Epoch 4/50\n",
            "63/63 [==============================] - 7s 114ms/step - loss: 0.6806 - accuracy: 0.5885 - val_loss: 0.6847 - val_accuracy: 0.5650\n",
            "Epoch 5/50\n",
            "63/63 [==============================] - 8s 115ms/step - loss: 0.6588 - accuracy: 0.6120 - val_loss: 0.6655 - val_accuracy: 0.6050\n",
            "Epoch 6/50\n",
            "63/63 [==============================] - 8s 115ms/step - loss: 0.6465 - accuracy: 0.6285 - val_loss: 0.7161 - val_accuracy: 0.5320\n",
            "Epoch 7/50\n",
            "63/63 [==============================] - 8s 115ms/step - loss: 0.6453 - accuracy: 0.6575 - val_loss: 0.6201 - val_accuracy: 0.6580\n",
            "Epoch 8/50\n",
            "63/63 [==============================] - 8s 115ms/step - loss: 0.6091 - accuracy: 0.6775 - val_loss: 0.6233 - val_accuracy: 0.6590\n",
            "Epoch 9/50\n",
            "63/63 [==============================] - 8s 116ms/step - loss: 0.6140 - accuracy: 0.6590 - val_loss: 0.5776 - val_accuracy: 0.7150\n",
            "Epoch 10/50\n",
            "63/63 [==============================] - 8s 117ms/step - loss: 0.5619 - accuracy: 0.7130 - val_loss: 0.5661 - val_accuracy: 0.6920\n",
            "Epoch 11/50\n",
            "63/63 [==============================] - 8s 117ms/step - loss: 0.5359 - accuracy: 0.7385 - val_loss: 0.5389 - val_accuracy: 0.7430\n",
            "Epoch 12/50\n",
            "63/63 [==============================] - 8s 115ms/step - loss: 0.5458 - accuracy: 0.7190 - val_loss: 0.5444 - val_accuracy: 0.7170\n",
            "Epoch 13/50\n",
            "63/63 [==============================] - 8s 118ms/step - loss: 0.5172 - accuracy: 0.7590 - val_loss: 0.5004 - val_accuracy: 0.7470\n",
            "Epoch 14/50\n",
            "63/63 [==============================] - 8s 117ms/step - loss: 0.5121 - accuracy: 0.7430 - val_loss: 0.4788 - val_accuracy: 0.7710\n",
            "Epoch 15/50\n",
            "63/63 [==============================] - 8s 116ms/step - loss: 0.5236 - accuracy: 0.7455 - val_loss: 0.4719 - val_accuracy: 0.7690\n",
            "Epoch 16/50\n",
            "63/63 [==============================] - 8s 116ms/step - loss: 0.4852 - accuracy: 0.7660 - val_loss: 0.4671 - val_accuracy: 0.7860\n",
            "Epoch 17/50\n",
            "63/63 [==============================] - 8s 115ms/step - loss: 0.4948 - accuracy: 0.7690 - val_loss: 0.4716 - val_accuracy: 0.7610\n",
            "Epoch 18/50\n",
            "63/63 [==============================] - 8s 115ms/step - loss: 0.4756 - accuracy: 0.7785 - val_loss: 0.5701 - val_accuracy: 0.7140\n",
            "Epoch 19/50\n",
            "63/63 [==============================] - 8s 115ms/step - loss: 0.5154 - accuracy: 0.7615 - val_loss: 0.4643 - val_accuracy: 0.7680\n",
            "Epoch 20/50\n",
            "63/63 [==============================] - 8s 116ms/step - loss: 0.4732 - accuracy: 0.7805 - val_loss: 0.4639 - val_accuracy: 0.7640\n",
            "Epoch 21/50\n",
            "63/63 [==============================] - 8s 115ms/step - loss: 0.4308 - accuracy: 0.7955 - val_loss: 0.4821 - val_accuracy: 0.7640\n",
            "Epoch 22/50\n",
            "63/63 [==============================] - 8s 116ms/step - loss: 0.4501 - accuracy: 0.7915 - val_loss: 0.4379 - val_accuracy: 0.7880\n",
            "Epoch 23/50\n",
            "63/63 [==============================] - 8s 115ms/step - loss: 0.4313 - accuracy: 0.8035 - val_loss: 0.4309 - val_accuracy: 0.8010\n",
            "Epoch 24/50\n",
            "63/63 [==============================] - 8s 116ms/step - loss: 0.4421 - accuracy: 0.8020 - val_loss: 0.4300 - val_accuracy: 0.7900\n",
            "Epoch 25/50\n",
            "63/63 [==============================] - 8s 115ms/step - loss: 0.4249 - accuracy: 0.8000 - val_loss: 0.4167 - val_accuracy: 0.8180\n",
            "Epoch 26/50\n",
            "63/63 [==============================] - 8s 115ms/step - loss: 0.4344 - accuracy: 0.8020 - val_loss: 0.4178 - val_accuracy: 0.8080\n",
            "Epoch 27/50\n",
            "63/63 [==============================] - 7s 114ms/step - loss: 0.3910 - accuracy: 0.8230 - val_loss: 0.4617 - val_accuracy: 0.7880\n",
            "Epoch 28/50\n",
            "63/63 [==============================] - 7s 113ms/step - loss: 0.3966 - accuracy: 0.8190 - val_loss: 0.4217 - val_accuracy: 0.8050\n",
            "Epoch 29/50\n",
            "63/63 [==============================] - 7s 113ms/step - loss: 0.3944 - accuracy: 0.8250 - val_loss: 0.4880 - val_accuracy: 0.7710\n",
            "Epoch 30/50\n",
            "63/63 [==============================] - 8s 115ms/step - loss: 0.3852 - accuracy: 0.8240 - val_loss: 0.4147 - val_accuracy: 0.8130\n",
            "Epoch 31/50\n",
            "63/63 [==============================] - 7s 114ms/step - loss: 0.3925 - accuracy: 0.8230 - val_loss: 0.4374 - val_accuracy: 0.8020\n",
            "Epoch 32/50\n",
            "63/63 [==============================] - 7s 115ms/step - loss: 0.3783 - accuracy: 0.8265 - val_loss: 0.3925 - val_accuracy: 0.8230\n",
            "Epoch 33/50\n",
            "63/63 [==============================] - 8s 116ms/step - loss: 0.3498 - accuracy: 0.8355 - val_loss: 0.3923 - val_accuracy: 0.8190\n",
            "Epoch 34/50\n",
            "63/63 [==============================] - 8s 116ms/step - loss: 0.3634 - accuracy: 0.8405 - val_loss: 0.3642 - val_accuracy: 0.8320\n",
            "Epoch 35/50\n",
            "63/63 [==============================] - 7s 114ms/step - loss: 0.3333 - accuracy: 0.8545 - val_loss: 0.3705 - val_accuracy: 0.8470\n",
            "Epoch 36/50\n",
            "63/63 [==============================] - 7s 114ms/step - loss: 0.3790 - accuracy: 0.8285 - val_loss: 0.3868 - val_accuracy: 0.8200\n",
            "Epoch 37/50\n",
            "63/63 [==============================] - 7s 114ms/step - loss: 0.3343 - accuracy: 0.8585 - val_loss: 0.3874 - val_accuracy: 0.8240\n",
            "Epoch 38/50\n",
            "63/63 [==============================] - 7s 114ms/step - loss: 0.3220 - accuracy: 0.8550 - val_loss: 0.4488 - val_accuracy: 0.8130\n",
            "Epoch 39/50\n",
            "63/63 [==============================] - 8s 115ms/step - loss: 0.3310 - accuracy: 0.8580 - val_loss: 0.3613 - val_accuracy: 0.8430\n",
            "Epoch 40/50\n",
            "63/63 [==============================] - 8s 115ms/step - loss: 0.3209 - accuracy: 0.8565 - val_loss: 0.3566 - val_accuracy: 0.8540\n",
            "Epoch 41/50\n",
            "63/63 [==============================] - 7s 113ms/step - loss: 0.3002 - accuracy: 0.8650 - val_loss: 0.4405 - val_accuracy: 0.8080\n",
            "Epoch 42/50\n",
            "63/63 [==============================] - 7s 113ms/step - loss: 0.3070 - accuracy: 0.8610 - val_loss: 0.4345 - val_accuracy: 0.8050\n",
            "Epoch 43/50\n",
            "63/63 [==============================] - 7s 114ms/step - loss: 0.2863 - accuracy: 0.8895 - val_loss: 0.4996 - val_accuracy: 0.8120\n",
            "Epoch 44/50\n",
            "63/63 [==============================] - 7s 114ms/step - loss: 0.3123 - accuracy: 0.8755 - val_loss: 0.3456 - val_accuracy: 0.8510\n",
            "Epoch 45/50\n",
            "63/63 [==============================] - 8s 116ms/step - loss: 0.2726 - accuracy: 0.8840 - val_loss: 0.4526 - val_accuracy: 0.8000\n",
            "Epoch 46/50\n",
            "63/63 [==============================] - 7s 113ms/step - loss: 0.2699 - accuracy: 0.8870 - val_loss: 0.4110 - val_accuracy: 0.8420\n",
            "Epoch 47/50\n",
            "63/63 [==============================] - 7s 113ms/step - loss: 0.2810 - accuracy: 0.8830 - val_loss: 0.3817 - val_accuracy: 0.8460\n",
            "Epoch 48/50\n",
            "63/63 [==============================] - 7s 114ms/step - loss: 0.2809 - accuracy: 0.8775 - val_loss: 0.3897 - val_accuracy: 0.8540\n",
            "Epoch 49/50\n",
            "63/63 [==============================] - 7s 114ms/step - loss: 0.2687 - accuracy: 0.8830 - val_loss: 0.4287 - val_accuracy: 0.8180\n",
            "Epoch 50/50\n",
            "63/63 [==============================] - 7s 114ms/step - loss: 0.2644 - accuracy: 0.8865 - val_loss: 0.4781 - val_accuracy: 0.8310\n"
          ]
        }
      ]
    },
    {
      "cell_type": "code",
      "source": [
        "test_model = keras.models.load_model(\n",
        "    \"convnet_from_scratch_with_augmentation1.keras\")\n",
        "test_loss, test_acc = test_model.evaluate(test_dataset)\n",
        "print(f\"Test accuracy: {test_acc:.3f}\")"
      ],
      "metadata": {
        "id": "LZBZsxXL-I8q",
        "colab": {
          "base_uri": "https://localhost:8080/"
        },
        "outputId": "f5574b27-6d7e-44f6-8bbc-93eb58c3894a"
      },
      "execution_count": 36,
      "outputs": [
        {
          "output_type": "stream",
          "name": "stdout",
          "text": [
            "32/32 [==============================] - 2s 44ms/step - loss: 0.4156 - accuracy: 0.8220\n",
            "Test accuracy: 0.822\n"
          ]
        }
      ]
    },
    {
      "cell_type": "markdown",
      "metadata": {
        "id": "WqhLY_7dirDW"
      },
      "source": [
        "### Increasing the sample size to 2,500 led to a more accurate test accuracy of 82.2%\n",
        "\n",
        "\n"
      ]
    },
    {
      "cell_type": "markdown",
      "source": [
        "# QUESTION 4\n",
        "# Repeating steps 1-3 using a pretrained network to achieve the best performance. "
      ],
      "metadata": {
        "id": "I8YwwoED-8dC"
      }
    },
    {
      "cell_type": "markdown",
      "metadata": {
        "id": "cfMRp3NjirDW"
      },
      "source": [
        "**Instantiating the VGG16 convolutional base**"
      ]
    },
    {
      "cell_type": "code",
      "execution_count": 37,
      "metadata": {
        "id": "cQgDqM6QirDW",
        "colab": {
          "base_uri": "https://localhost:8080/"
        },
        "outputId": "842d715d-4ab7-4037-940c-af16775c65d5"
      },
      "outputs": [
        {
          "output_type": "stream",
          "name": "stdout",
          "text": [
            "Downloading data from https://storage.googleapis.com/tensorflow/keras-applications/vgg16/vgg16_weights_tf_dim_ordering_tf_kernels_notop.h5\n",
            "58892288/58889256 [==============================] - 1s 0us/step\n",
            "58900480/58889256 [==============================] - 1s 0us/step\n"
          ]
        }
      ],
      "source": [
        "conv_base = keras.applications.vgg16.VGG16(\n",
        "    weights=\"imagenet\",\n",
        "    include_top=False,\n",
        "    input_shape=(180, 180, 3))"
      ]
    },
    {
      "cell_type": "code",
      "execution_count": 38,
      "metadata": {
        "id": "z2sOIV5KirDX",
        "colab": {
          "base_uri": "https://localhost:8080/"
        },
        "outputId": "a75a6134-4b22-40d0-ecf9-73b21267ef91"
      },
      "outputs": [
        {
          "output_type": "stream",
          "name": "stdout",
          "text": [
            "Model: \"vgg16\"\n",
            "_________________________________________________________________\n",
            " Layer (type)                Output Shape              Param #   \n",
            "=================================================================\n",
            " input_6 (InputLayer)        [(None, 180, 180, 3)]     0         \n",
            "                                                                 \n",
            " block1_conv1 (Conv2D)       (None, 180, 180, 64)      1792      \n",
            "                                                                 \n",
            " block1_conv2 (Conv2D)       (None, 180, 180, 64)      36928     \n",
            "                                                                 \n",
            " block1_pool (MaxPooling2D)  (None, 90, 90, 64)        0         \n",
            "                                                                 \n",
            " block2_conv1 (Conv2D)       (None, 90, 90, 128)       73856     \n",
            "                                                                 \n",
            " block2_conv2 (Conv2D)       (None, 90, 90, 128)       147584    \n",
            "                                                                 \n",
            " block2_pool (MaxPooling2D)  (None, 45, 45, 128)       0         \n",
            "                                                                 \n",
            " block3_conv1 (Conv2D)       (None, 45, 45, 256)       295168    \n",
            "                                                                 \n",
            " block3_conv2 (Conv2D)       (None, 45, 45, 256)       590080    \n",
            "                                                                 \n",
            " block3_conv3 (Conv2D)       (None, 45, 45, 256)       590080    \n",
            "                                                                 \n",
            " block3_pool (MaxPooling2D)  (None, 22, 22, 256)       0         \n",
            "                                                                 \n",
            " block4_conv1 (Conv2D)       (None, 22, 22, 512)       1180160   \n",
            "                                                                 \n",
            " block4_conv2 (Conv2D)       (None, 22, 22, 512)       2359808   \n",
            "                                                                 \n",
            " block4_conv3 (Conv2D)       (None, 22, 22, 512)       2359808   \n",
            "                                                                 \n",
            " block4_pool (MaxPooling2D)  (None, 11, 11, 512)       0         \n",
            "                                                                 \n",
            " block5_conv1 (Conv2D)       (None, 11, 11, 512)       2359808   \n",
            "                                                                 \n",
            " block5_conv2 (Conv2D)       (None, 11, 11, 512)       2359808   \n",
            "                                                                 \n",
            " block5_conv3 (Conv2D)       (None, 11, 11, 512)       2359808   \n",
            "                                                                 \n",
            " block5_pool (MaxPooling2D)  (None, 5, 5, 512)         0         \n",
            "                                                                 \n",
            "=================================================================\n",
            "Total params: 14,714,688\n",
            "Trainable params: 14,714,688\n",
            "Non-trainable params: 0\n",
            "_________________________________________________________________\n"
          ]
        }
      ],
      "source": [
        "conv_base.summary()"
      ]
    },
    {
      "cell_type": "markdown",
      "metadata": {
        "id": "a7poFaiJirDX"
      },
      "source": [
        "#### Fast feature extraction without data augmentation"
      ]
    },
    {
      "cell_type": "markdown",
      "metadata": {
        "id": "wWwGfvEdirDX"
      },
      "source": [
        "**Extracting the VGG16 features and corresponding labels**"
      ]
    },
    {
      "cell_type": "code",
      "execution_count": 39,
      "metadata": {
        "id": "8CzSvt8WirDX"
      },
      "outputs": [],
      "source": [
        "import numpy as np\n",
        "\n",
        "def get_features_and_labels(dataset):\n",
        "    all_features = []\n",
        "    all_labels = []\n",
        "    for images, labels in dataset:\n",
        "        preprocessed_images = keras.applications.vgg16.preprocess_input(images)\n",
        "        features = conv_base.predict(preprocessed_images)\n",
        "        all_features.append(features)\n",
        "        all_labels.append(labels)\n",
        "    return np.concatenate(all_features), np.concatenate(all_labels)\n",
        "\n",
        "train_features, train_labels =  get_features_and_labels(train_dataset)\n",
        "val_features, val_labels =  get_features_and_labels(validation_dataset)\n",
        "test_features, test_labels =  get_features_and_labels(test_dataset)"
      ]
    },
    {
      "cell_type": "code",
      "execution_count": 40,
      "metadata": {
        "id": "eRK3QrnTirDY",
        "colab": {
          "base_uri": "https://localhost:8080/"
        },
        "outputId": "42d8763a-bb75-4fd7-8f44-9cef7c60755b"
      },
      "outputs": [
        {
          "output_type": "execute_result",
          "data": {
            "text/plain": [
              "(2000, 5, 5, 512)"
            ]
          },
          "metadata": {},
          "execution_count": 40
        }
      ],
      "source": [
        "train_features.shape"
      ]
    },
    {
      "cell_type": "markdown",
      "metadata": {
        "id": "7YMsxxrNirDY"
      },
      "source": [
        "**Defining and training the densely connected classifier**"
      ]
    },
    {
      "cell_type": "code",
      "execution_count": 41,
      "metadata": {
        "id": "jV2igEfAirDY",
        "colab": {
          "base_uri": "https://localhost:8080/"
        },
        "outputId": "26567033-1e88-4ca0-ff2d-866fbf944873"
      },
      "outputs": [
        {
          "output_type": "stream",
          "name": "stdout",
          "text": [
            "Epoch 1/30\n",
            "63/63 [==============================] - 1s 13ms/step - loss: 16.6639 - accuracy: 0.9240 - val_loss: 3.7075 - val_accuracy: 0.9690\n",
            "Epoch 2/30\n",
            "63/63 [==============================] - 1s 8ms/step - loss: 4.2252 - accuracy: 0.9760 - val_loss: 5.0618 - val_accuracy: 0.9680\n",
            "Epoch 3/30\n",
            "63/63 [==============================] - 0s 8ms/step - loss: 2.9557 - accuracy: 0.9815 - val_loss: 17.0950 - val_accuracy: 0.9300\n",
            "Epoch 4/30\n",
            "63/63 [==============================] - 1s 9ms/step - loss: 1.4389 - accuracy: 0.9885 - val_loss: 7.8837 - val_accuracy: 0.9660\n",
            "Epoch 5/30\n",
            "63/63 [==============================] - 0s 8ms/step - loss: 0.7574 - accuracy: 0.9945 - val_loss: 7.3943 - val_accuracy: 0.9690\n",
            "Epoch 6/30\n",
            "63/63 [==============================] - 1s 9ms/step - loss: 0.8749 - accuracy: 0.9905 - val_loss: 4.9364 - val_accuracy: 0.9760\n",
            "Epoch 7/30\n",
            "63/63 [==============================] - 1s 9ms/step - loss: 0.9373 - accuracy: 0.9945 - val_loss: 5.9275 - val_accuracy: 0.9700\n",
            "Epoch 8/30\n",
            "63/63 [==============================] - 1s 9ms/step - loss: 0.0182 - accuracy: 0.9985 - val_loss: 4.5249 - val_accuracy: 0.9750\n",
            "Epoch 9/30\n",
            "63/63 [==============================] - 1s 9ms/step - loss: 0.1098 - accuracy: 0.9995 - val_loss: 3.8121 - val_accuracy: 0.9810\n",
            "Epoch 10/30\n",
            "63/63 [==============================] - 1s 9ms/step - loss: 0.1604 - accuracy: 0.9975 - val_loss: 4.7300 - val_accuracy: 0.9770\n",
            "Epoch 11/30\n",
            "63/63 [==============================] - 1s 8ms/step - loss: 0.6802 - accuracy: 0.9945 - val_loss: 5.9964 - val_accuracy: 0.9750\n",
            "Epoch 12/30\n",
            "63/63 [==============================] - 1s 9ms/step - loss: 0.3729 - accuracy: 0.9965 - val_loss: 4.9340 - val_accuracy: 0.9740\n",
            "Epoch 13/30\n",
            "63/63 [==============================] - 1s 9ms/step - loss: 0.7046 - accuracy: 0.9945 - val_loss: 6.0555 - val_accuracy: 0.9750\n",
            "Epoch 14/30\n",
            "63/63 [==============================] - 1s 9ms/step - loss: 0.1888 - accuracy: 0.9985 - val_loss: 6.7167 - val_accuracy: 0.9760\n",
            "Epoch 15/30\n",
            "63/63 [==============================] - 1s 10ms/step - loss: 0.1834 - accuracy: 0.9985 - val_loss: 6.2418 - val_accuracy: 0.9740\n",
            "Epoch 16/30\n",
            "63/63 [==============================] - 1s 9ms/step - loss: 0.4817 - accuracy: 0.9955 - val_loss: 5.2359 - val_accuracy: 0.9790\n",
            "Epoch 17/30\n",
            "63/63 [==============================] - 1s 8ms/step - loss: 0.0900 - accuracy: 0.9990 - val_loss: 4.6192 - val_accuracy: 0.9800\n",
            "Epoch 18/30\n",
            "63/63 [==============================] - 1s 8ms/step - loss: 0.0000e+00 - accuracy: 1.0000 - val_loss: 4.6192 - val_accuracy: 0.9800\n",
            "Epoch 19/30\n",
            "63/63 [==============================] - 1s 9ms/step - loss: 0.0031 - accuracy: 0.9995 - val_loss: 7.5920 - val_accuracy: 0.9690\n",
            "Epoch 20/30\n",
            "63/63 [==============================] - 1s 9ms/step - loss: 0.0423 - accuracy: 0.9990 - val_loss: 5.2291 - val_accuracy: 0.9800\n",
            "Epoch 21/30\n",
            "63/63 [==============================] - 1s 9ms/step - loss: 0.0274 - accuracy: 0.9995 - val_loss: 5.0898 - val_accuracy: 0.9780\n",
            "Epoch 22/30\n",
            "63/63 [==============================] - 1s 9ms/step - loss: 8.5895e-20 - accuracy: 1.0000 - val_loss: 5.0898 - val_accuracy: 0.9780\n",
            "Epoch 23/30\n",
            "63/63 [==============================] - 1s 9ms/step - loss: 0.0113 - accuracy: 0.9995 - val_loss: 5.2883 - val_accuracy: 0.9820\n",
            "Epoch 24/30\n",
            "63/63 [==============================] - 1s 9ms/step - loss: 0.1049 - accuracy: 0.9990 - val_loss: 4.8316 - val_accuracy: 0.9800\n",
            "Epoch 25/30\n",
            "63/63 [==============================] - 1s 8ms/step - loss: 0.2456 - accuracy: 0.9980 - val_loss: 5.2455 - val_accuracy: 0.9810\n",
            "Epoch 26/30\n",
            "63/63 [==============================] - 1s 9ms/step - loss: 0.1216 - accuracy: 0.9990 - val_loss: 4.0962 - val_accuracy: 0.9800\n",
            "Epoch 27/30\n",
            "63/63 [==============================] - 1s 8ms/step - loss: 0.0000e+00 - accuracy: 1.0000 - val_loss: 4.0962 - val_accuracy: 0.9800\n",
            "Epoch 28/30\n",
            "63/63 [==============================] - 1s 8ms/step - loss: 0.0539 - accuracy: 0.9990 - val_loss: 4.3180 - val_accuracy: 0.9810\n",
            "Epoch 29/30\n",
            "63/63 [==============================] - 1s 8ms/step - loss: 0.0370 - accuracy: 0.9995 - val_loss: 4.9324 - val_accuracy: 0.9760\n",
            "Epoch 30/30\n",
            "63/63 [==============================] - 1s 9ms/step - loss: 0.0134 - accuracy: 0.9995 - val_loss: 4.4688 - val_accuracy: 0.9800\n"
          ]
        }
      ],
      "source": [
        "inputs = keras.Input(shape=(5, 5, 512))\n",
        "x = layers.Flatten()(inputs)\n",
        "x = layers.Dense(256)(x)\n",
        "x = layers.Dropout(0.5)(x)\n",
        "outputs = layers.Dense(1, activation=\"sigmoid\")(x)\n",
        "model = keras.Model(inputs, outputs)\n",
        "model.compile(loss=\"binary_crossentropy\",\n",
        "              optimizer=\"rmsprop\",\n",
        "              metrics=[\"accuracy\"])\n",
        "\n",
        "callbacks = [\n",
        "    keras.callbacks.ModelCheckpoint(\n",
        "      filepath=\"feature_extraction.keras\",\n",
        "      save_best_only=True,\n",
        "      monitor=\"val_loss\")\n",
        "]\n",
        "history = model.fit(\n",
        "    train_features, train_labels,\n",
        "    epochs=30,\n",
        "    validation_data=(val_features, val_labels),\n",
        "    callbacks=callbacks)"
      ]
    },
    {
      "cell_type": "markdown",
      "metadata": {
        "id": "9TNS4teJirDY"
      },
      "source": [
        "**Plotting the results**"
      ]
    },
    {
      "cell_type": "code",
      "execution_count": 42,
      "metadata": {
        "id": "NPyrNi1lirDZ",
        "colab": {
          "base_uri": "https://localhost:8080/",
          "height": 545
        },
        "outputId": "19a35cd5-dd31-492d-e865-8fb96324699a"
      },
      "outputs": [
        {
          "output_type": "display_data",
          "data": {
            "text/plain": [
              "<Figure size 432x288 with 1 Axes>"
            ],
            "image/png": "[encoded data removed]"
          },
          "metadata": {
            "needs_background": "light"
          }
        },
        {
          "output_type": "display_data",
          "data": {
            "text/plain": [
              "<Figure size 432x288 with 1 Axes>"
            ],
            "image/png": "[encoded data removed]"
          },
          "metadata": {
            "needs_background": "light"
          }
        }
      ],
      "source": [
        "import matplotlib.pyplot as plt\n",
        "acc = history.history[\"accuracy\"]\n",
        "val_acc = history.history[\"val_accuracy\"]\n",
        "loss = history.history[\"loss\"]\n",
        "val_loss = history.history[\"val_loss\"]\n",
        "epochs = range(1, len(acc) + 1)\n",
        "plt.plot(epochs, acc, \"bo\", label=\"Training accuracy\")\n",
        "plt.plot(epochs, val_acc, \"b\", label=\"Validation accuracy\")\n",
        "plt.title(\"Training and validation accuracy\")\n",
        "plt.legend()\n",
        "plt.figure()\n",
        "plt.plot(epochs, loss, \"bo\", label=\"Training loss\")\n",
        "plt.plot(epochs, val_loss, \"b\", label=\"Validation loss\")\n",
        "plt.title(\"Training and validation loss\")\n",
        "plt.legend()\n",
        "plt.show()"
      ]
    },
    {
      "cell_type": "markdown",
      "metadata": {
        "id": "Cy779TqpirDZ"
      },
      "source": [
        "#### Feature extraction together with data augmentation"
      ]
    },
    {
      "cell_type": "markdown",
      "metadata": {
        "id": "MGWDYJ11irDZ"
      },
      "source": [
        "**Instantiating and freezing the VGG16 convolutional base**"
      ]
    },
    {
      "cell_type": "code",
      "execution_count": 43,
      "metadata": {
        "id": "Q47MGIcxirDZ"
      },
      "outputs": [],
      "source": [
        "conv_base  = keras.applications.vgg16.VGG16(\n",
        "    weights=\"imagenet\",\n",
        "    include_top=False)\n",
        "conv_base.trainable = False"
      ]
    },
    {
      "cell_type": "markdown",
      "metadata": {
        "id": "YUcGbKfTirDa"
      },
      "source": [
        "**Printing the list of trainable weights before and after freezing**"
      ]
    },
    {
      "cell_type": "code",
      "execution_count": 44,
      "metadata": {
        "id": "H7zJ56YDirDa",
        "colab": {
          "base_uri": "https://localhost:8080/"
        },
        "outputId": "683bcbf9-3e07-4b6e-95a6-f043f4c9a58f"
      },
      "outputs": [
        {
          "output_type": "stream",
          "name": "stdout",
          "text": [
            "This is the number of trainable weights before freezing the conv base: 26\n"
          ]
        }
      ],
      "source": [
        "conv_base.trainable = True\n",
        "print(\"This is the number of trainable weights \"\n",
        "      \"before freezing the conv base:\", len(conv_base.trainable_weights))"
      ]
    },
    {
      "cell_type": "code",
      "execution_count": 45,
      "metadata": {
        "id": "YaKQbaNyirDa",
        "colab": {
          "base_uri": "https://localhost:8080/"
        },
        "outputId": "8a67e612-fb2c-4064-d920-d43a323a4332"
      },
      "outputs": [
        {
          "output_type": "stream",
          "name": "stdout",
          "text": [
            "This is the number of trainable weights after freezing the conv base: 0\n"
          ]
        }
      ],
      "source": [
        "conv_base.trainable = False\n",
        "print(\"This is the number of trainable weights \"\n",
        "      \"after freezing the conv base:\", len(conv_base.trainable_weights))"
      ]
    },
    {
      "cell_type": "markdown",
      "metadata": {
        "id": "LsgLSidRirDa"
      },
      "source": [
        "**Adding a data augmentation stage and a classifier to the convolutional base**"
      ]
    },
    {
      "cell_type": "code",
      "execution_count": 46,
      "metadata": {
        "id": "BvoK2xEZirDb"
      },
      "outputs": [],
      "source": [
        "data_augmentation = keras.Sequential(\n",
        "    [\n",
        "        layers.RandomFlip(\"horizontal\"),\n",
        "        layers.RandomRotation(0.1),\n",
        "        layers.RandomZoom(0.2),\n",
        "    ]\n",
        ")\n",
        "\n",
        "inputs = keras.Input(shape=(180, 180, 3))\n",
        "x = data_augmentation(inputs)\n",
        "x = keras.applications.vgg16.preprocess_input(x)\n",
        "x = conv_base(x)\n",
        "x = layers.Flatten()(x)\n",
        "x = layers.Dense(256)(x)\n",
        "x = layers.Dropout(0.5)(x)\n",
        "outputs = layers.Dense(1, activation=\"sigmoid\")(x)\n",
        "model = keras.Model(inputs, outputs)\n",
        "model.compile(loss=\"binary_crossentropy\",\n",
        "              optimizer=\"rmsprop\",\n",
        "              metrics=[\"accuracy\"])"
      ]
    },
    {
      "cell_type": "code",
      "execution_count": 47,
      "metadata": {
        "id": "cRjZUGMgirDb",
        "colab": {
          "base_uri": "https://localhost:8080/"
        },
        "outputId": "fd8989d9-f36b-47e5-d9e2-3930a8702b81"
      },
      "outputs": [
        {
          "output_type": "stream",
          "name": "stdout",
          "text": [
            "Epoch 1/50\n",
            "63/63 [==============================] - 23s 337ms/step - loss: 17.4740 - accuracy: 0.8950 - val_loss: 4.6089 - val_accuracy: 0.9720\n",
            "Epoch 2/50\n",
            "63/63 [==============================] - 21s 334ms/step - loss: 7.1936 - accuracy: 0.9430 - val_loss: 3.1780 - val_accuracy: 0.9720\n",
            "Epoch 3/50\n",
            "63/63 [==============================] - 21s 331ms/step - loss: 5.2554 - accuracy: 0.9620 - val_loss: 7.8970 - val_accuracy: 0.9640\n",
            "Epoch 4/50\n",
            "63/63 [==============================] - 21s 331ms/step - loss: 4.9372 - accuracy: 0.9610 - val_loss: 3.9097 - val_accuracy: 0.9770\n",
            "Epoch 5/50\n",
            "63/63 [==============================] - 21s 330ms/step - loss: 4.9667 - accuracy: 0.9650 - val_loss: 7.5746 - val_accuracy: 0.9600\n",
            "Epoch 6/50\n",
            "63/63 [==============================] - 21s 330ms/step - loss: 3.5362 - accuracy: 0.9665 - val_loss: 5.4690 - val_accuracy: 0.9700\n",
            "Epoch 7/50\n",
            "63/63 [==============================] - 21s 330ms/step - loss: 4.1928 - accuracy: 0.9655 - val_loss: 3.4945 - val_accuracy: 0.9730\n",
            "Epoch 8/50\n",
            "63/63 [==============================] - 21s 331ms/step - loss: 2.6893 - accuracy: 0.9740 - val_loss: 3.3316 - val_accuracy: 0.9730\n",
            "Epoch 9/50\n",
            "63/63 [==============================] - 21s 334ms/step - loss: 3.0573 - accuracy: 0.9710 - val_loss: 2.7647 - val_accuracy: 0.9780\n",
            "Epoch 10/50\n",
            "63/63 [==============================] - 21s 329ms/step - loss: 2.6277 - accuracy: 0.9720 - val_loss: 2.8062 - val_accuracy: 0.9770\n",
            "Epoch 11/50\n",
            "63/63 [==============================] - 21s 330ms/step - loss: 1.9672 - accuracy: 0.9755 - val_loss: 6.0002 - val_accuracy: 0.9690\n",
            "Epoch 12/50\n",
            "63/63 [==============================] - 21s 330ms/step - loss: 2.1991 - accuracy: 0.9775 - val_loss: 3.7341 - val_accuracy: 0.9750\n",
            "Epoch 13/50\n",
            "63/63 [==============================] - 21s 331ms/step - loss: 2.0195 - accuracy: 0.9770 - val_loss: 4.2897 - val_accuracy: 0.9660\n",
            "Epoch 14/50\n",
            "63/63 [==============================] - 21s 334ms/step - loss: 1.8630 - accuracy: 0.9785 - val_loss: 2.2691 - val_accuracy: 0.9780\n",
            "Epoch 15/50\n",
            "63/63 [==============================] - 21s 329ms/step - loss: 0.7563 - accuracy: 0.9880 - val_loss: 4.4338 - val_accuracy: 0.9700\n",
            "Epoch 16/50\n",
            "63/63 [==============================] - 21s 335ms/step - loss: 1.6580 - accuracy: 0.9835 - val_loss: 2.2001 - val_accuracy: 0.9800\n",
            "Epoch 17/50\n",
            "63/63 [==============================] - 21s 331ms/step - loss: 1.1311 - accuracy: 0.9830 - val_loss: 2.3882 - val_accuracy: 0.9770\n",
            "Epoch 18/50\n",
            "63/63 [==============================] - 21s 334ms/step - loss: 1.9604 - accuracy: 0.9795 - val_loss: 2.1105 - val_accuracy: 0.9820\n",
            "Epoch 19/50\n",
            "63/63 [==============================] - 21s 331ms/step - loss: 1.2319 - accuracy: 0.9805 - val_loss: 3.2372 - val_accuracy: 0.9770\n",
            "Epoch 20/50\n",
            "63/63 [==============================] - 21s 331ms/step - loss: 0.9749 - accuracy: 0.9860 - val_loss: 3.1160 - val_accuracy: 0.9700\n",
            "Epoch 21/50\n",
            "63/63 [==============================] - 21s 334ms/step - loss: 1.1207 - accuracy: 0.9850 - val_loss: 1.6100 - val_accuracy: 0.9820\n",
            "Epoch 22/50\n",
            "63/63 [==============================] - 21s 330ms/step - loss: 1.7090 - accuracy: 0.9800 - val_loss: 1.8729 - val_accuracy: 0.9820\n",
            "Epoch 23/50\n",
            "63/63 [==============================] - 21s 331ms/step - loss: 1.3444 - accuracy: 0.9835 - val_loss: 2.0798 - val_accuracy: 0.9790\n",
            "Epoch 24/50\n",
            "63/63 [==============================] - 21s 331ms/step - loss: 0.7427 - accuracy: 0.9865 - val_loss: 2.8461 - val_accuracy: 0.9720\n",
            "Epoch 25/50\n",
            "63/63 [==============================] - 21s 331ms/step - loss: 0.8345 - accuracy: 0.9875 - val_loss: 2.1173 - val_accuracy: 0.9830\n",
            "Epoch 26/50\n",
            "63/63 [==============================] - 21s 331ms/step - loss: 1.4569 - accuracy: 0.9815 - val_loss: 1.7649 - val_accuracy: 0.9800\n",
            "Epoch 27/50\n",
            "63/63 [==============================] - 21s 331ms/step - loss: 0.4745 - accuracy: 0.9890 - val_loss: 1.9557 - val_accuracy: 0.9800\n",
            "Epoch 28/50\n",
            "63/63 [==============================] - 21s 330ms/step - loss: 0.9357 - accuracy: 0.9825 - val_loss: 1.7593 - val_accuracy: 0.9800\n",
            "Epoch 29/50\n",
            "63/63 [==============================] - 21s 330ms/step - loss: 0.8158 - accuracy: 0.9855 - val_loss: 2.4587 - val_accuracy: 0.9780\n",
            "Epoch 30/50\n",
            "63/63 [==============================] - 21s 331ms/step - loss: 0.8280 - accuracy: 0.9865 - val_loss: 2.2195 - val_accuracy: 0.9750\n",
            "Epoch 31/50\n",
            "63/63 [==============================] - 21s 335ms/step - loss: 1.0137 - accuracy: 0.9850 - val_loss: 1.5657 - val_accuracy: 0.9840\n",
            "Epoch 32/50\n",
            "63/63 [==============================] - 21s 331ms/step - loss: 0.5967 - accuracy: 0.9855 - val_loss: 1.6691 - val_accuracy: 0.9830\n",
            "Epoch 33/50\n",
            "63/63 [==============================] - 21s 331ms/step - loss: 0.8524 - accuracy: 0.9840 - val_loss: 2.4992 - val_accuracy: 0.9800\n",
            "Epoch 34/50\n",
            "63/63 [==============================] - 21s 333ms/step - loss: 0.8194 - accuracy: 0.9870 - val_loss: 1.8956 - val_accuracy: 0.9810\n",
            "Epoch 35/50\n",
            "63/63 [==============================] - 21s 331ms/step - loss: 0.6651 - accuracy: 0.9875 - val_loss: 3.4770 - val_accuracy: 0.9700\n",
            "Epoch 36/50\n",
            "63/63 [==============================] - 21s 331ms/step - loss: 0.6656 - accuracy: 0.9855 - val_loss: 2.3253 - val_accuracy: 0.9770\n",
            "Epoch 37/50\n",
            "63/63 [==============================] - 21s 331ms/step - loss: 0.9444 - accuracy: 0.9845 - val_loss: 3.3206 - val_accuracy: 0.9730\n",
            "Epoch 38/50\n",
            "63/63 [==============================] - 21s 330ms/step - loss: 0.9292 - accuracy: 0.9840 - val_loss: 2.2495 - val_accuracy: 0.9770\n",
            "Epoch 39/50\n",
            "63/63 [==============================] - 21s 332ms/step - loss: 0.5546 - accuracy: 0.9885 - val_loss: 2.1377 - val_accuracy: 0.9770\n",
            "Epoch 40/50\n",
            "63/63 [==============================] - 21s 330ms/step - loss: 0.5735 - accuracy: 0.9885 - val_loss: 1.8435 - val_accuracy: 0.9810\n",
            "Epoch 41/50\n",
            "63/63 [==============================] - 21s 331ms/step - loss: 0.5149 - accuracy: 0.9880 - val_loss: 1.6616 - val_accuracy: 0.9820\n",
            "Epoch 42/50\n",
            "63/63 [==============================] - 21s 330ms/step - loss: 0.5073 - accuracy: 0.9870 - val_loss: 1.8847 - val_accuracy: 0.9780\n",
            "Epoch 43/50\n",
            "63/63 [==============================] - 21s 331ms/step - loss: 0.5247 - accuracy: 0.9875 - val_loss: 1.5791 - val_accuracy: 0.9820\n",
            "Epoch 44/50\n",
            "63/63 [==============================] - 21s 331ms/step - loss: 0.5134 - accuracy: 0.9910 - val_loss: 1.7354 - val_accuracy: 0.9780\n",
            "Epoch 45/50\n",
            "63/63 [==============================] - 21s 330ms/step - loss: 0.6955 - accuracy: 0.9850 - val_loss: 2.1998 - val_accuracy: 0.9780\n",
            "Epoch 46/50\n",
            "63/63 [==============================] - 21s 330ms/step - loss: 0.8488 - accuracy: 0.9855 - val_loss: 1.8424 - val_accuracy: 0.9760\n",
            "Epoch 47/50\n",
            "63/63 [==============================] - 21s 330ms/step - loss: 0.5410 - accuracy: 0.9880 - val_loss: 2.1466 - val_accuracy: 0.9720\n",
            "Epoch 48/50\n",
            "63/63 [==============================] - 21s 331ms/step - loss: 0.3189 - accuracy: 0.9935 - val_loss: 1.8430 - val_accuracy: 0.9760\n",
            "Epoch 49/50\n",
            "63/63 [==============================] - 21s 332ms/step - loss: 0.3569 - accuracy: 0.9890 - val_loss: 1.8290 - val_accuracy: 0.9790\n",
            "Epoch 50/50\n",
            "63/63 [==============================] - 21s 333ms/step - loss: 0.4365 - accuracy: 0.9900 - val_loss: 2.0416 - val_accuracy: 0.9770\n"
          ]
        }
      ],
      "source": [
        "callbacks = [\n",
        "    keras.callbacks.ModelCheckpoint(\n",
        "        filepath=\"feature_extraction_with_data_augmentation.keras\",\n",
        "        save_best_only=True,\n",
        "        monitor=\"val_loss\")\n",
        "]\n",
        "history = model.fit(\n",
        "    train_dataset,\n",
        "    epochs=50,\n",
        "    validation_data=validation_dataset,\n",
        "    callbacks=callbacks)"
      ]
    },
    {
      "cell_type": "markdown",
      "metadata": {
        "id": "y51SCC5XirDb"
      },
      "source": [
        "**Evaluating the model on the test set**"
      ]
    },
    {
      "cell_type": "code",
      "execution_count": 48,
      "metadata": {
        "id": "qNTYvjHqirDb",
        "colab": {
          "base_uri": "https://localhost:8080/"
        },
        "outputId": "52ad3620-426e-4fed-d998-00d88402ba27"
      },
      "outputs": [
        {
          "output_type": "stream",
          "name": "stdout",
          "text": [
            "32/32 [==============================] - 7s 209ms/step - loss: 2.4916 - accuracy: 0.9760\n",
            "Test accuracy: 0.976\n"
          ]
        }
      ],
      "source": [
        "test_model = keras.models.load_model(\n",
        "    \"feature_extraction_with_data_augmentation.keras\")\n",
        "test_loss, test_acc = test_model.evaluate(test_dataset)\n",
        "print(f\"Test accuracy: {test_acc:.3f}\")"
      ]
    },
    {
      "cell_type": "markdown",
      "metadata": {
        "id": "Gs0X29QdirDc"
      },
      "source": [
        "### Fine-tuning a pretrained model"
      ]
    },
    {
      "cell_type": "code",
      "execution_count": 49,
      "metadata": {
        "id": "NiDwH3flirDc",
        "colab": {
          "base_uri": "https://localhost:8080/"
        },
        "outputId": "ab05b104-e118-4d1e-8688-a34b5ac00b1c"
      },
      "outputs": [
        {
          "output_type": "stream",
          "name": "stdout",
          "text": [
            "Model: \"vgg16\"\n",
            "_________________________________________________________________\n",
            " Layer (type)                Output Shape              Param #   \n",
            "=================================================================\n",
            " input_8 (InputLayer)        [(None, None, None, 3)]   0         \n",
            "                                                                 \n",
            " block1_conv1 (Conv2D)       (None, None, None, 64)    1792      \n",
            "                                                                 \n",
            " block1_conv2 (Conv2D)       (None, None, None, 64)    36928     \n",
            "                                                                 \n",
            " block1_pool (MaxPooling2D)  (None, None, None, 64)    0         \n",
            "                                                                 \n",
            " block2_conv1 (Conv2D)       (None, None, None, 128)   73856     \n",
            "                                                                 \n",
            " block2_conv2 (Conv2D)       (None, None, None, 128)   147584    \n",
            "                                                                 \n",
            " block2_pool (MaxPooling2D)  (None, None, None, 128)   0         \n",
            "                                                                 \n",
            " block3_conv1 (Conv2D)       (None, None, None, 256)   295168    \n",
            "                                                                 \n",
            " block3_conv2 (Conv2D)       (None, None, None, 256)   590080    \n",
            "                                                                 \n",
            " block3_conv3 (Conv2D)       (None, None, None, 256)   590080    \n",
            "                                                                 \n",
            " block3_pool (MaxPooling2D)  (None, None, None, 256)   0         \n",
            "                                                                 \n",
            " block4_conv1 (Conv2D)       (None, None, None, 512)   1180160   \n",
            "                                                                 \n",
            " block4_conv2 (Conv2D)       (None, None, None, 512)   2359808   \n",
            "                                                                 \n",
            " block4_conv3 (Conv2D)       (None, None, None, 512)   2359808   \n",
            "                                                                 \n",
            " block4_pool (MaxPooling2D)  (None, None, None, 512)   0         \n",
            "                                                                 \n",
            " block5_conv1 (Conv2D)       (None, None, None, 512)   2359808   \n",
            "                                                                 \n",
            " block5_conv2 (Conv2D)       (None, None, None, 512)   2359808   \n",
            "                                                                 \n",
            " block5_conv3 (Conv2D)       (None, None, None, 512)   2359808   \n",
            "                                                                 \n",
            " block5_pool (MaxPooling2D)  (None, None, None, 512)   0         \n",
            "                                                                 \n",
            "=================================================================\n",
            "Total params: 14,714,688\n",
            "Trainable params: 0\n",
            "Non-trainable params: 14,714,688\n",
            "_________________________________________________________________\n"
          ]
        }
      ],
      "source": [
        "conv_base.summary()"
      ]
    },
    {
      "cell_type": "markdown",
      "metadata": {
        "id": "OQxNjveuirDc"
      },
      "source": [
        "**Freezing all layers until the fourth from the last**"
      ]
    },
    {
      "cell_type": "code",
      "execution_count": 50,
      "metadata": {
        "id": "w8egKAfHirDc"
      },
      "outputs": [],
      "source": [
        "conv_base.trainable = True\n",
        "for layer in conv_base.layers[:-4]:\n",
        "    layer.trainable = False"
      ]
    },
    {
      "cell_type": "markdown",
      "metadata": {
        "id": "YETC9BFTirDc"
      },
      "source": [
        "**Fine-tuning the model**"
      ]
    },
    {
      "cell_type": "code",
      "execution_count": 51,
      "metadata": {
        "id": "gAic2tbAirDc",
        "colab": {
          "base_uri": "https://localhost:8080/"
        },
        "outputId": "045aa55d-9f4e-40c1-8071-82435c2c2e72"
      },
      "outputs": [
        {
          "output_type": "stream",
          "name": "stdout",
          "text": [
            "Epoch 1/30\n",
            "63/63 [==============================] - 25s 368ms/step - loss: 0.4634 - accuracy: 0.9870 - val_loss: 1.9653 - val_accuracy: 0.9760\n",
            "Epoch 2/30\n",
            "63/63 [==============================] - 23s 359ms/step - loss: 0.4916 - accuracy: 0.9920 - val_loss: 2.0313 - val_accuracy: 0.9770\n",
            "Epoch 3/30\n",
            "63/63 [==============================] - 23s 363ms/step - loss: 0.3868 - accuracy: 0.9910 - val_loss: 1.8703 - val_accuracy: 0.9760\n",
            "Epoch 4/30\n",
            "63/63 [==============================] - 23s 358ms/step - loss: 0.3849 - accuracy: 0.9880 - val_loss: 2.0150 - val_accuracy: 0.9710\n",
            "Epoch 5/30\n",
            "63/63 [==============================] - 23s 358ms/step - loss: 0.5047 - accuracy: 0.9905 - val_loss: 2.2080 - val_accuracy: 0.9730\n",
            "Epoch 6/30\n",
            "63/63 [==============================] - 23s 362ms/step - loss: 0.3236 - accuracy: 0.9910 - val_loss: 1.5540 - val_accuracy: 0.9780\n",
            "Epoch 7/30\n",
            "63/63 [==============================] - 23s 358ms/step - loss: 0.1639 - accuracy: 0.9955 - val_loss: 1.6766 - val_accuracy: 0.9790\n",
            "Epoch 8/30\n",
            "63/63 [==============================] - 23s 364ms/step - loss: 0.2398 - accuracy: 0.9925 - val_loss: 1.5437 - val_accuracy: 0.9760\n",
            "Epoch 9/30\n",
            "63/63 [==============================] - 23s 358ms/step - loss: 0.1964 - accuracy: 0.9950 - val_loss: 2.0141 - val_accuracy: 0.9700\n",
            "Epoch 10/30\n",
            "63/63 [==============================] - 23s 360ms/step - loss: 0.2830 - accuracy: 0.9920 - val_loss: 1.6813 - val_accuracy: 0.9770\n",
            "Epoch 11/30\n",
            "63/63 [==============================] - 23s 361ms/step - loss: 0.1244 - accuracy: 0.9960 - val_loss: 2.0829 - val_accuracy: 0.9690\n",
            "Epoch 12/30\n",
            "63/63 [==============================] - 23s 359ms/step - loss: 0.1315 - accuracy: 0.9935 - val_loss: 1.7389 - val_accuracy: 0.9770\n",
            "Epoch 13/30\n",
            "63/63 [==============================] - 23s 359ms/step - loss: 0.1021 - accuracy: 0.9955 - val_loss: 1.9876 - val_accuracy: 0.9750\n",
            "Epoch 14/30\n",
            "63/63 [==============================] - 23s 358ms/step - loss: 0.3232 - accuracy: 0.9910 - val_loss: 1.8216 - val_accuracy: 0.9710\n",
            "Epoch 15/30\n",
            "63/63 [==============================] - 23s 358ms/step - loss: 0.0463 - accuracy: 0.9970 - val_loss: 1.9761 - val_accuracy: 0.9740\n",
            "Epoch 16/30\n",
            "63/63 [==============================] - 23s 359ms/step - loss: 0.2325 - accuracy: 0.9940 - val_loss: 1.9884 - val_accuracy: 0.9740\n",
            "Epoch 17/30\n",
            "63/63 [==============================] - 23s 359ms/step - loss: 0.0500 - accuracy: 0.9980 - val_loss: 1.9088 - val_accuracy: 0.9750\n",
            "Epoch 18/30\n",
            "63/63 [==============================] - 23s 359ms/step - loss: 0.0714 - accuracy: 0.9960 - val_loss: 1.6235 - val_accuracy: 0.9770\n",
            "Epoch 19/30\n",
            "63/63 [==============================] - 23s 364ms/step - loss: 0.1110 - accuracy: 0.9955 - val_loss: 1.3396 - val_accuracy: 0.9770\n",
            "Epoch 20/30\n",
            "63/63 [==============================] - 23s 366ms/step - loss: 0.2303 - accuracy: 0.9940 - val_loss: 1.2713 - val_accuracy: 0.9780\n",
            "Epoch 21/30\n",
            "63/63 [==============================] - 23s 359ms/step - loss: 0.1417 - accuracy: 0.9955 - val_loss: 1.4154 - val_accuracy: 0.9770\n",
            "Epoch 22/30\n",
            "63/63 [==============================] - 23s 359ms/step - loss: 0.1535 - accuracy: 0.9940 - val_loss: 1.7450 - val_accuracy: 0.9780\n",
            "Epoch 23/30\n",
            "63/63 [==============================] - 23s 358ms/step - loss: 0.0954 - accuracy: 0.9965 - val_loss: 1.6368 - val_accuracy: 0.9810\n",
            "Epoch 24/30\n",
            "63/63 [==============================] - 23s 359ms/step - loss: 0.1189 - accuracy: 0.9960 - val_loss: 2.0062 - val_accuracy: 0.9740\n",
            "Epoch 25/30\n",
            "63/63 [==============================] - 23s 358ms/step - loss: 0.0843 - accuracy: 0.9960 - val_loss: 1.5881 - val_accuracy: 0.9790\n",
            "Epoch 26/30\n",
            "63/63 [==============================] - 23s 358ms/step - loss: 0.0854 - accuracy: 0.9955 - val_loss: 1.8587 - val_accuracy: 0.9780\n",
            "Epoch 27/30\n",
            "63/63 [==============================] - 23s 359ms/step - loss: 0.1758 - accuracy: 0.9940 - val_loss: 1.8504 - val_accuracy: 0.9730\n",
            "Epoch 28/30\n",
            "63/63 [==============================] - 23s 360ms/step - loss: 0.0278 - accuracy: 0.9975 - val_loss: 1.3913 - val_accuracy: 0.9780\n",
            "Epoch 29/30\n",
            "63/63 [==============================] - 23s 358ms/step - loss: 0.0844 - accuracy: 0.9960 - val_loss: 1.7151 - val_accuracy: 0.9780\n",
            "Epoch 30/30\n",
            "63/63 [==============================] - 23s 358ms/step - loss: 0.0912 - accuracy: 0.9950 - val_loss: 1.8765 - val_accuracy: 0.9790\n"
          ]
        }
      ],
      "source": [
        "model.compile(loss=\"binary_crossentropy\",\n",
        "              optimizer=keras.optimizers.RMSprop(learning_rate=1e-5),\n",
        "              metrics=[\"accuracy\"])\n",
        "\n",
        "callbacks = [\n",
        "    keras.callbacks.ModelCheckpoint(\n",
        "        filepath=\"fine_tuning.keras\",\n",
        "        save_best_only=True,\n",
        "        monitor=\"val_loss\")\n",
        "]\n",
        "history = model.fit(\n",
        "    train_dataset,\n",
        "    epochs=30,\n",
        "    validation_data=validation_dataset,\n",
        "    callbacks=callbacks)"
      ]
    },
    {
      "cell_type": "code",
      "execution_count": 52,
      "metadata": {
        "id": "MpcSW6MfirDd",
        "colab": {
          "base_uri": "https://localhost:8080/"
        },
        "outputId": "3580bf88-e91b-40f4-c836-95f3469ea667"
      },
      "outputs": [
        {
          "output_type": "stream",
          "name": "stdout",
          "text": [
            "32/32 [==============================] - 7s 208ms/step - loss: 1.6356 - accuracy: 0.9740\n",
            "Test accuracy: 0.974\n"
          ]
        }
      ],
      "source": [
        "model = keras.models.load_model(\"fine_tuning.keras\")\n",
        "test_loss, test_acc = model.evaluate(test_dataset)\n",
        "print(f\"Test accuracy: {test_acc:.3f}\")"
      ]
    },
    {
      "cell_type": "markdown",
      "metadata": {
        "id": "-YmhpUPairDd"
      },
      "source": [
        "### Summary"
      ]
    },
    {
      "cell_type": "markdown",
      "source": [
        "When using a pre-trained model that does not use augmentation the model produces a 97.6% test accuracy.\n",
        "When using a pre-trained model with fine tuning led to a test accuracy of 97.4%. \n",
        "\n",
        "The overall accuracy of a model is related to the sample size. In steps 1-3, it was clearly shown that as the sample size increased, the accuracy increased as well. In step 1 used a sample size of 1,000 and achieved an accuracy of 68.9%. In step 2, I increased the sample size to 1,6000 which led to an accuracy of 80.3%. In step 3, the sample size was increased to 2,500 and a test accuracy of 82.2%. The sample size is related to the accuracy."
      ],
      "metadata": {
        "id": "BsdSFLCS6sJW"
      }
    }
  ],
  "metadata": {
    "colab": {
      "collapsed_sections": [],
      "name": "Assignment 2 of chapter08_intro-to-dl-for-computer-vision.i",
      "provenance": [],
      "toc_visible": true
    },
    "kernelspec": {
      "display_name": "Python 3",
      "language": "python",
      "name": "python3"
    },
    "language_info": {
      "codemirror_mode": {
        "name": "ipython",
        "version": 3
      },
      "file_extension": ".py",
      "mimetype": "text/x-python",
      "name": "python",
      "nbconvert_exporter": "python",
      "pygments_lexer": "ipython3",
      "version": "3.7.0"
    },
    "accelerator": "GPU"
  },
  "nbformat": 4,
  "nbformat_minor": 0
}