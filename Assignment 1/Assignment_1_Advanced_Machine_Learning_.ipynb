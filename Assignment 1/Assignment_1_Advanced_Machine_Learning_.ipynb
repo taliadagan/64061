{
  "nbformat": 4,
  "nbformat_minor": 0,
  "metadata": {
    "colab": {
      "name": " Assignment 1 Advanced Machine Learning .ipynb",
      "provenance": [],
      "collapsed_sections": []
    },
    "kernelspec": {
      "name": "python3",
      "display_name": "Python 3"
    },
    "language_info": {
      "name": "python"
    }
  },
  "cells": [
    {
      "cell_type": "markdown",
      "source": [
        "##IMDB Reviews Assignment 1 Machine Learning"
      ],
      "metadata": {
        "id": "v7d23sP6YNiq"
      }
    },
    {
      "cell_type": "code",
      "source": [
        "#Importing the IMDB data from library \n",
        "from tensorflow.keras.datasets import imdb\n",
        "(train_data, train_labels), (test_data, test_labels) = imdb.load_data(\n",
        "    num_words=10000)"
      ],
      "metadata": {
        "id": "q78WYP7eYUw1",
        "colab": {
          "base_uri": "https://localhost:8080/"
        },
        "outputId": "339f63c3-16db-4ce7-c947-97849824c4d0"
      },
      "execution_count": 5,
      "outputs": [
        {
          "output_type": "stream",
          "name": "stdout",
          "text": [
            "Downloading data from https://storage.googleapis.com/tensorflow/tf-keras-datasets/imdb.npz\n",
            "17465344/17464789 [==============================] - 0s 0us/step\n",
            "17473536/17464789 [==============================] - 0s 0us/step\n"
          ]
        }
      ]
    },
    {
      "cell_type": "code",
      "source": [
        "train_data[0]"
      ],
      "metadata": {
        "colab": {
          "base_uri": "https://localhost:8080/"
        },
        "id": "eV14OZNWYokk",
        "outputId": "ed4e3e9a-5871-4eaf-acc2-e73976da0945"
      },
      "execution_count": 6,
      "outputs": [
        {
          "output_type": "execute_result",
          "data": {
            "text/plain": [
              "[1,\n",
              " 14,\n",
              " 22,\n",
              " 16,\n",
              " 43,\n",
              " 530,\n",
              " 973,\n",
              " 1622,\n",
              " 1385,\n",
              " 65,\n",
              " 458,\n",
              " 4468,\n",
              " 66,\n",
              " 3941,\n",
              " 4,\n",
              " 173,\n",
              " 36,\n",
              " 256,\n",
              " 5,\n",
              " 25,\n",
              " 100,\n",
              " 43,\n",
              " 838,\n",
              " 112,\n",
              " 50,\n",
              " 670,\n",
              " 2,\n",
              " 9,\n",
              " 35,\n",
              " 480,\n",
              " 284,\n",
              " 5,\n",
              " 150,\n",
              " 4,\n",
              " 172,\n",
              " 112,\n",
              " 167,\n",
              " 2,\n",
              " 336,\n",
              " 385,\n",
              " 39,\n",
              " 4,\n",
              " 172,\n",
              " 4536,\n",
              " 1111,\n",
              " 17,\n",
              " 546,\n",
              " 38,\n",
              " 13,\n",
              " 447,\n",
              " 4,\n",
              " 192,\n",
              " 50,\n",
              " 16,\n",
              " 6,\n",
              " 147,\n",
              " 2025,\n",
              " 19,\n",
              " 14,\n",
              " 22,\n",
              " 4,\n",
              " 1920,\n",
              " 4613,\n",
              " 469,\n",
              " 4,\n",
              " 22,\n",
              " 71,\n",
              " 87,\n",
              " 12,\n",
              " 16,\n",
              " 43,\n",
              " 530,\n",
              " 38,\n",
              " 76,\n",
              " 15,\n",
              " 13,\n",
              " 1247,\n",
              " 4,\n",
              " 22,\n",
              " 17,\n",
              " 515,\n",
              " 17,\n",
              " 12,\n",
              " 16,\n",
              " 626,\n",
              " 18,\n",
              " 2,\n",
              " 5,\n",
              " 62,\n",
              " 386,\n",
              " 12,\n",
              " 8,\n",
              " 316,\n",
              " 8,\n",
              " 106,\n",
              " 5,\n",
              " 4,\n",
              " 2223,\n",
              " 5244,\n",
              " 16,\n",
              " 480,\n",
              " 66,\n",
              " 3785,\n",
              " 33,\n",
              " 4,\n",
              " 130,\n",
              " 12,\n",
              " 16,\n",
              " 38,\n",
              " 619,\n",
              " 5,\n",
              " 25,\n",
              " 124,\n",
              " 51,\n",
              " 36,\n",
              " 135,\n",
              " 48,\n",
              " 25,\n",
              " 1415,\n",
              " 33,\n",
              " 6,\n",
              " 22,\n",
              " 12,\n",
              " 215,\n",
              " 28,\n",
              " 77,\n",
              " 52,\n",
              " 5,\n",
              " 14,\n",
              " 407,\n",
              " 16,\n",
              " 82,\n",
              " 2,\n",
              " 8,\n",
              " 4,\n",
              " 107,\n",
              " 117,\n",
              " 5952,\n",
              " 15,\n",
              " 256,\n",
              " 4,\n",
              " 2,\n",
              " 7,\n",
              " 3766,\n",
              " 5,\n",
              " 723,\n",
              " 36,\n",
              " 71,\n",
              " 43,\n",
              " 530,\n",
              " 476,\n",
              " 26,\n",
              " 400,\n",
              " 317,\n",
              " 46,\n",
              " 7,\n",
              " 4,\n",
              " 2,\n",
              " 1029,\n",
              " 13,\n",
              " 104,\n",
              " 88,\n",
              " 4,\n",
              " 381,\n",
              " 15,\n",
              " 297,\n",
              " 98,\n",
              " 32,\n",
              " 2071,\n",
              " 56,\n",
              " 26,\n",
              " 141,\n",
              " 6,\n",
              " 194,\n",
              " 7486,\n",
              " 18,\n",
              " 4,\n",
              " 226,\n",
              " 22,\n",
              " 21,\n",
              " 134,\n",
              " 476,\n",
              " 26,\n",
              " 480,\n",
              " 5,\n",
              " 144,\n",
              " 30,\n",
              " 5535,\n",
              " 18,\n",
              " 51,\n",
              " 36,\n",
              " 28,\n",
              " 224,\n",
              " 92,\n",
              " 25,\n",
              " 104,\n",
              " 4,\n",
              " 226,\n",
              " 65,\n",
              " 16,\n",
              " 38,\n",
              " 1334,\n",
              " 88,\n",
              " 12,\n",
              " 16,\n",
              " 283,\n",
              " 5,\n",
              " 16,\n",
              " 4472,\n",
              " 113,\n",
              " 103,\n",
              " 32,\n",
              " 15,\n",
              " 16,\n",
              " 5345,\n",
              " 19,\n",
              " 178,\n",
              " 32]"
            ]
          },
          "metadata": {},
          "execution_count": 6
        }
      ]
    },
    {
      "cell_type": "code",
      "source": [
        "train_labels[0]"
      ],
      "metadata": {
        "colab": {
          "base_uri": "https://localhost:8080/"
        },
        "id": "xdSN_aLzZlpU",
        "outputId": "4d40d5fb-8fea-4868-93b7-7a477d6e4149"
      },
      "execution_count": 7,
      "outputs": [
        {
          "output_type": "execute_result",
          "data": {
            "text/plain": [
              "1"
            ]
          },
          "metadata": {},
          "execution_count": 7
        }
      ]
    },
    {
      "cell_type": "code",
      "source": [
        "max([max(sequence) for sequence in train_data])"
      ],
      "metadata": {
        "colab": {
          "base_uri": "https://localhost:8080/"
        },
        "id": "7szfGWltZoYj",
        "outputId": "2142a1b3-19d4-43dc-de7d-ed6301d71ee4"
      },
      "execution_count": 8,
      "outputs": [
        {
          "output_type": "execute_result",
          "data": {
            "text/plain": [
              "9999"
            ]
          },
          "metadata": {},
          "execution_count": 8
        }
      ]
    },
    {
      "cell_type": "code",
      "source": [
        "#Getting the words from the dictionary\n",
        "word_index = imdb.get_word_index()\n",
        "reverse_word_index = dict(\n",
        "    [(value, key) for (key, value) in word_index.items()])\n",
        "decoded_review = \" \".join(\n",
        "    [reverse_word_index.get(i - 3, \"?\") for i in train_data[0]])"
      ],
      "metadata": {
        "colab": {
          "base_uri": "https://localhost:8080/"
        },
        "id": "Rt2Ui38xZsDi",
        "outputId": "3877327b-d19a-495b-8290-47d46883e36a"
      },
      "execution_count": 9,
      "outputs": [
        {
          "output_type": "stream",
          "name": "stdout",
          "text": [
            "Downloading data from https://storage.googleapis.com/tensorflow/tf-keras-datasets/imdb_word_index.json\n",
            "1646592/1641221 [==============================] - 0s 0us/step\n",
            "1654784/1641221 [==============================] - 0s 0us/step\n"
          ]
        }
      ]
    },
    {
      "cell_type": "markdown",
      "source": [
        "Preparing the data"
      ],
      "metadata": {
        "id": "Hx70Tcw7Z7R9"
      }
    },
    {
      "cell_type": "code",
      "source": [
        "#Encoding the integer sequences via multi-hot encoding\n",
        "import numpy as np\n",
        "def vectorize_sequences(sequences, dimension=10000):\n",
        "    results = np.zeros((len(sequences), dimension))\n",
        "    for i, sequence in enumerate(sequences):\n",
        "        for j in sequence:\n",
        "            results[i, j] = 1.\n",
        "    return results\n",
        "x_train = vectorize_sequences(train_data)\n",
        "x_test = vectorize_sequences(test_data)"
      ],
      "metadata": {
        "id": "9DcSB-KmZsNu"
      },
      "execution_count": 10,
      "outputs": []
    },
    {
      "cell_type": "code",
      "source": [
        "x_train[0]"
      ],
      "metadata": {
        "colab": {
          "base_uri": "https://localhost:8080/"
        },
        "id": "SsLHBX-7atTh",
        "outputId": "857ff12e-e3b8-4e2e-91e9-c6c2447430aa"
      },
      "execution_count": 11,
      "outputs": [
        {
          "output_type": "execute_result",
          "data": {
            "text/plain": [
              "array([0., 1., 1., ..., 0., 0., 0.])"
            ]
          },
          "metadata": {},
          "execution_count": 11
        }
      ]
    },
    {
      "cell_type": "code",
      "source": [
        "y_train = np.asarray(train_labels).astype(\"float32\")\n",
        "y_test = np.asarray(test_labels).astype(\"float32\")"
      ],
      "metadata": {
        "id": "WRsBAi_ZbHO3"
      },
      "execution_count": 12,
      "outputs": []
    },
    {
      "cell_type": "markdown",
      "source": [
        "**Building the Model**"
      ],
      "metadata": {
        "id": "x14-cqZhbt-V"
      }
    },
    {
      "cell_type": "markdown",
      "source": [
        "Model Definition "
      ],
      "metadata": {
        "id": "Qr47tjE8b50h"
      }
    },
    {
      "cell_type": "code",
      "source": [
        "#Building the model with 2 hidden layers and 16 nodes in each\n",
        "from tensorflow import keras\n",
        "from tensorflow.keras import layers\n",
        "\n",
        "model = keras.Sequential([\n",
        "    layers.Dense(16, activation=\"relu\"),\n",
        "    layers.Dense(16, activation=\"relu\"),\n",
        "    layers.Dense(1, activation=\"sigmoid\")\n",
        "])"
      ],
      "metadata": {
        "id": "T0o968IKcHg2"
      },
      "execution_count": 13,
      "outputs": []
    },
    {
      "cell_type": "markdown",
      "source": [
        "Compiling the model"
      ],
      "metadata": {
        "id": "0EC_nm5jcQR6"
      }
    },
    {
      "cell_type": "code",
      "source": [
        "model.compile(optimizer=\"rmsprop\",\n",
        "              loss=\"binary_crossentropy\",\n",
        "              metrics=[\"accuracy\"])"
      ],
      "metadata": {
        "id": "_Bffi7SzcMtX"
      },
      "execution_count": 14,
      "outputs": []
    },
    {
      "cell_type": "markdown",
      "source": [
        "Validating your approach"
      ],
      "metadata": {
        "id": "7qWJi16kciZ_"
      }
    },
    {
      "cell_type": "code",
      "source": [
        "x_val = x_train[:10000]\n",
        "partial_x_train = x_train[10000:]\n",
        "y_val = y_train[:10000]\n",
        "partial_y_train = y_train[10000:]"
      ],
      "metadata": {
        "id": "Gpcgeu28cjPg"
      },
      "execution_count": 15,
      "outputs": []
    },
    {
      "cell_type": "markdown",
      "source": [
        "Training the model"
      ],
      "metadata": {
        "id": "RJmKKQp-cnBk"
      }
    },
    {
      "cell_type": "code",
      "source": [
        "history = model.fit(partial_x_train,\n",
        "                    partial_y_train,\n",
        "                    epochs=20,\n",
        "                    batch_size=512,\n",
        "                    validation_data=(x_val, y_val))"
      ],
      "metadata": {
        "colab": {
          "base_uri": "https://localhost:8080/"
        },
        "id": "h6beSumucl0y",
        "outputId": "faf6dd15-9c5f-4671-e3ce-6572748dbfcc"
      },
      "execution_count": 16,
      "outputs": [
        {
          "output_type": "stream",
          "name": "stdout",
          "text": [
            "Epoch 1/20\n",
            "30/30 [==============================] - 2s 48ms/step - loss: 0.5556 - accuracy: 0.7563 - val_loss: 0.4129 - val_accuracy: 0.8704\n",
            "Epoch 2/20\n",
            "30/30 [==============================] - 1s 35ms/step - loss: 0.3274 - accuracy: 0.8955 - val_loss: 0.3171 - val_accuracy: 0.8867\n",
            "Epoch 3/20\n",
            "30/30 [==============================] - 1s 35ms/step - loss: 0.2358 - accuracy: 0.9230 - val_loss: 0.2790 - val_accuracy: 0.8924\n",
            "Epoch 4/20\n",
            "30/30 [==============================] - 1s 36ms/step - loss: 0.1823 - accuracy: 0.9405 - val_loss: 0.2751 - val_accuracy: 0.8915\n",
            "Epoch 5/20\n",
            "30/30 [==============================] - 1s 36ms/step - loss: 0.1503 - accuracy: 0.9500 - val_loss: 0.2957 - val_accuracy: 0.8845\n",
            "Epoch 6/20\n",
            "30/30 [==============================] - 1s 38ms/step - loss: 0.1240 - accuracy: 0.9602 - val_loss: 0.2973 - val_accuracy: 0.8823\n",
            "Epoch 7/20\n",
            "30/30 [==============================] - 1s 35ms/step - loss: 0.1035 - accuracy: 0.9691 - val_loss: 0.3083 - val_accuracy: 0.8826\n",
            "Epoch 8/20\n",
            "30/30 [==============================] - 1s 37ms/step - loss: 0.0842 - accuracy: 0.9765 - val_loss: 0.3377 - val_accuracy: 0.8769\n",
            "Epoch 9/20\n",
            "30/30 [==============================] - 1s 37ms/step - loss: 0.0709 - accuracy: 0.9807 - val_loss: 0.3871 - val_accuracy: 0.8735\n",
            "Epoch 10/20\n",
            "30/30 [==============================] - 1s 38ms/step - loss: 0.0594 - accuracy: 0.9841 - val_loss: 0.3724 - val_accuracy: 0.8788\n",
            "Epoch 11/20\n",
            "30/30 [==============================] - 1s 39ms/step - loss: 0.0460 - accuracy: 0.9890 - val_loss: 0.4165 - val_accuracy: 0.8778\n",
            "Epoch 12/20\n",
            "30/30 [==============================] - 1s 35ms/step - loss: 0.0378 - accuracy: 0.9913 - val_loss: 0.4413 - val_accuracy: 0.8771\n",
            "Epoch 13/20\n",
            "30/30 [==============================] - 1s 36ms/step - loss: 0.0324 - accuracy: 0.9929 - val_loss: 0.4678 - val_accuracy: 0.8746\n",
            "Epoch 14/20\n",
            "30/30 [==============================] - 1s 35ms/step - loss: 0.0250 - accuracy: 0.9951 - val_loss: 0.4874 - val_accuracy: 0.8731\n",
            "Epoch 15/20\n",
            "30/30 [==============================] - 1s 35ms/step - loss: 0.0200 - accuracy: 0.9960 - val_loss: 0.5288 - val_accuracy: 0.8713\n",
            "Epoch 16/20\n",
            "30/30 [==============================] - 1s 39ms/step - loss: 0.0156 - accuracy: 0.9980 - val_loss: 0.5557 - val_accuracy: 0.8705\n",
            "Epoch 17/20\n",
            "30/30 [==============================] - 1s 36ms/step - loss: 0.0117 - accuracy: 0.9988 - val_loss: 0.5999 - val_accuracy: 0.8694\n",
            "Epoch 18/20\n",
            "30/30 [==============================] - 1s 39ms/step - loss: 0.0139 - accuracy: 0.9970 - val_loss: 0.6401 - val_accuracy: 0.8686\n",
            "Epoch 19/20\n",
            "30/30 [==============================] - 1s 35ms/step - loss: 0.0051 - accuracy: 0.9998 - val_loss: 0.6728 - val_accuracy: 0.8681\n",
            "Epoch 20/20\n",
            "30/30 [==============================] - 1s 35ms/step - loss: 0.0068 - accuracy: 0.9991 - val_loss: 0.6966 - val_accuracy: 0.8674\n"
          ]
        }
      ]
    },
    {
      "cell_type": "code",
      "source": [
        "history_dict = history.history\n",
        "history_dict.keys()"
      ],
      "metadata": {
        "colab": {
          "base_uri": "https://localhost:8080/"
        },
        "id": "Qsa9qoGlcyM-",
        "outputId": "1a3e03b9-463c-45ed-8f4d-d9930dab2a94"
      },
      "execution_count": 17,
      "outputs": [
        {
          "output_type": "execute_result",
          "data": {
            "text/plain": [
              "dict_keys(['loss', 'accuracy', 'val_loss', 'val_accuracy'])"
            ]
          },
          "metadata": {},
          "execution_count": 17
        }
      ]
    },
    {
      "cell_type": "markdown",
      "source": [
        "**Plotting the training and validation loss**"
      ],
      "metadata": {
        "id": "9v5IkYeIdYRs"
      }
    },
    {
      "cell_type": "code",
      "source": [
        "import matplotlib.pyplot as plt\n",
        "history_dict = history.history\n",
        "loss_values = history_dict[\"loss\"]\n",
        "val_loss_values = history_dict[\"val_loss\"]\n",
        "epochs = range(1, len(loss_values) + 1)\n",
        "plt.plot(epochs, loss_values, \"bo\", label=\"Training loss\")\n",
        "plt.plot(epochs, val_loss_values, \"b\", label=\"Validation loss\")\n",
        "plt.title(\"Training and validation loss\")\n",
        "plt.xlabel(\"Epochs\")\n",
        "plt.ylabel(\"Loss\")\n",
        "plt.legend()\n",
        "plt.show()"
      ],
      "metadata": {
        "colab": {
          "base_uri": "https://localhost:8080/",
          "height": 295
        },
        "id": "KJkGHsX-db5G",
        "outputId": "398e4180-9935-4350-b426-e43cf2398a7a"
      },
      "execution_count": 18,
      "outputs": [
        {
          "output_type": "display_data",
          "data": {
            "image/png": "[encoded data removed]",
            "text/plain": [
              "<Figure size 432x288 with 1 Axes>"
            ]
          },
          "metadata": {
            "needs_background": "light"
          }
        }
      ]
    },
    {
      "cell_type": "markdown",
      "source": [
        "At 3 Epochs, the validation loss starts to increase and model is overfitting."
      ],
      "metadata": {
        "id": "qYDXTgl6hRNA"
      }
    },
    {
      "cell_type": "markdown",
      "source": [
        "**Plotting the training and validation accuracy**"
      ],
      "metadata": {
        "id": "qnpa8mLidmNu"
      }
    },
    {
      "cell_type": "code",
      "source": [
        "plt.clf()\n",
        "acc = history_dict[\"accuracy\"]\n",
        "val_acc = history_dict[\"val_accuracy\"]\n",
        "plt.plot(epochs, acc, \"bo\", label=\"Training acc\")\n",
        "plt.plot(epochs, val_acc, \"b\", label=\"Validation acc\")\n",
        "plt.title(\"Training and validation accuracy\")\n",
        "plt.xlabel(\"Epochs\")\n",
        "plt.ylabel(\"Accuracy\")\n",
        "plt.legend()\n",
        "plt.show()"
      ],
      "metadata": {
        "colab": {
          "base_uri": "https://localhost:8080/",
          "height": 295
        },
        "id": "C9iTcWXWdm9B",
        "outputId": "47655334-770a-41a6-c3bd-4b703ecb2eab"
      },
      "execution_count": 19,
      "outputs": [
        {
          "output_type": "display_data",
          "data": {
            "image/png": "[encoded data removed]",
            "text/plain": [
              "<Figure size 432x288 with 1 Axes>"
            ]
          },
          "metadata": {
            "needs_background": "light"
          }
        }
      ]
    },
    {
      "cell_type": "markdown",
      "source": [
        "At the 3rd epoch, validation accuracy starts decrease while training accuracy is increasing. "
      ],
      "metadata": {
        "id": "mRrAqMZahrw1"
      }
    },
    {
      "cell_type": "markdown",
      "source": [
        "**Retraining a model from scratch**"
      ],
      "metadata": {
        "id": "k9YuozhofrZg"
      }
    },
    {
      "cell_type": "code",
      "source": [
        "model = keras.Sequential([\n",
        "    layers.Dense(16, activation=\"relu\"),\n",
        "    layers.Dense(16, activation=\"relu\"),\n",
        "    layers.Dense(1, activation=\"sigmoid\")\n",
        "])\n",
        "model.compile(optimizer=\"rmsprop\",\n",
        "              loss=\"binary_crossentropy\",\n",
        "              metrics=[\"accuracy\"])\n",
        "model.fit(x_train, y_train, epochs=4, batch_size=512)\n",
        "results = model.evaluate(x_test, y_test)"
      ],
      "metadata": {
        "colab": {
          "base_uri": "https://localhost:8080/"
        },
        "id": "anNJ1Cc9fs-q",
        "outputId": "ae36c988-d731-4adc-8dcf-a11196de8208"
      },
      "execution_count": 20,
      "outputs": [
        {
          "output_type": "stream",
          "name": "stdout",
          "text": [
            "Epoch 1/4\n",
            "49/49 [==============================] - 2s 28ms/step - loss: 0.4824 - accuracy: 0.8089\n",
            "Epoch 2/4\n",
            "49/49 [==============================] - 1s 28ms/step - loss: 0.2718 - accuracy: 0.9076\n",
            "Epoch 3/4\n",
            "49/49 [==============================] - 1s 27ms/step - loss: 0.2059 - accuracy: 0.9278\n",
            "Epoch 4/4\n",
            "49/49 [==============================] - 1s 27ms/step - loss: 0.1712 - accuracy: 0.9410\n",
            "782/782 [==============================] - 2s 2ms/step - loss: 0.2994 - accuracy: 0.8816\n"
          ]
        }
      ]
    },
    {
      "cell_type": "code",
      "source": [
        "results"
      ],
      "metadata": {
        "colab": {
          "base_uri": "https://localhost:8080/"
        },
        "id": "7s843uA4f-hS",
        "outputId": "dea4b0fe-57c5-4b03-de44-d4b9e8625c85"
      },
      "execution_count": 21,
      "outputs": [
        {
          "output_type": "execute_result",
          "data": {
            "text/plain": [
              "[0.29943403601646423, 0.8816400170326233]"
            ]
          },
          "metadata": {},
          "execution_count": 21
        }
      ]
    },
    {
      "cell_type": "markdown",
      "source": [
        "**Using one hidden layer to see how it affects validation and test accuracy**\n",
        "\n",
        "\n"
      ],
      "metadata": {
        "id": "JbCNqCPJf_Ws"
      }
    },
    {
      "cell_type": "code",
      "source": [
        "#Building the model with 1 hidden layers\n",
        "from tensorflow import keras\n",
        "from tensorflow.keras import layers\n",
        "\n",
        "newmodel = keras.Sequential([\n",
        "    layers.Dense(16, activation=\"relu\"),\n",
        "    layers.Dense(1, activation=\"sigmoid\")\n",
        "])"
      ],
      "metadata": {
        "id": "sIlzMtbMlvCE"
      },
      "execution_count": 1,
      "outputs": []
    },
    {
      "cell_type": "code",
      "source": [
        "newmodel.compile(optimizer=\"rmsprop\",\n",
        "              loss=\"binary_crossentropy\",\n",
        "              metrics=[\"accuracy\"])"
      ],
      "metadata": {
        "id": "29VBUz7bl9fh"
      },
      "execution_count": 2,
      "outputs": []
    },
    {
      "cell_type": "code",
      "source": [
        "history_newmodel = newmodel.fit(partial_x_train,\n",
        "                    partial_y_train,\n",
        "                    epochs=20,\n",
        "                    batch_size=512,\n",
        "                    validation_data=(x_val, y_val))"
      ],
      "metadata": {
        "colab": {
          "base_uri": "https://localhost:8080/"
        },
        "id": "jnQa3VSamF7z",
        "outputId": "e5e56879-067d-49ad-8b85-1d5df8382516"
      },
      "execution_count": 22,
      "outputs": [
        {
          "output_type": "stream",
          "name": "stdout",
          "text": [
            "Epoch 1/20\n",
            "30/30 [==============================] - 2s 47ms/step - loss: 0.4986 - accuracy: 0.7931 - val_loss: 0.3873 - val_accuracy: 0.8689\n",
            "Epoch 2/20\n",
            "30/30 [==============================] - 1s 36ms/step - loss: 0.3143 - accuracy: 0.9048 - val_loss: 0.3460 - val_accuracy: 0.8578\n",
            "Epoch 3/20\n",
            "30/30 [==============================] - 1s 35ms/step - loss: 0.2439 - accuracy: 0.9233 - val_loss: 0.2946 - val_accuracy: 0.8876\n",
            "Epoch 4/20\n",
            "30/30 [==============================] - 1s 35ms/step - loss: 0.2003 - accuracy: 0.9385 - val_loss: 0.2812 - val_accuracy: 0.8892\n",
            "Epoch 5/20\n",
            "30/30 [==============================] - 1s 35ms/step - loss: 0.1703 - accuracy: 0.9480 - val_loss: 0.2758 - val_accuracy: 0.8884\n",
            "Epoch 6/20\n",
            "30/30 [==============================] - 1s 36ms/step - loss: 0.1473 - accuracy: 0.9564 - val_loss: 0.2760 - val_accuracy: 0.8895\n",
            "Epoch 7/20\n",
            "30/30 [==============================] - 1s 35ms/step - loss: 0.1273 - accuracy: 0.9645 - val_loss: 0.2931 - val_accuracy: 0.8848\n",
            "Epoch 8/20\n",
            "30/30 [==============================] - 1s 35ms/step - loss: 0.1136 - accuracy: 0.9680 - val_loss: 0.3023 - val_accuracy: 0.8813\n",
            "Epoch 9/20\n",
            "30/30 [==============================] - 1s 35ms/step - loss: 0.0988 - accuracy: 0.9735 - val_loss: 0.2966 - val_accuracy: 0.8840\n",
            "Epoch 10/20\n",
            "30/30 [==============================] - 1s 35ms/step - loss: 0.0879 - accuracy: 0.9774 - val_loss: 0.3083 - val_accuracy: 0.8840\n",
            "Epoch 11/20\n",
            "30/30 [==============================] - 1s 39ms/step - loss: 0.0781 - accuracy: 0.9813 - val_loss: 0.3206 - val_accuracy: 0.8803\n",
            "Epoch 12/20\n",
            "30/30 [==============================] - 1s 35ms/step - loss: 0.0684 - accuracy: 0.9843 - val_loss: 0.3344 - val_accuracy: 0.8797\n",
            "Epoch 13/20\n",
            "30/30 [==============================] - 1s 35ms/step - loss: 0.0608 - accuracy: 0.9873 - val_loss: 0.3698 - val_accuracy: 0.8764\n",
            "Epoch 14/20\n",
            "30/30 [==============================] - 1s 39ms/step - loss: 0.0535 - accuracy: 0.9883 - val_loss: 0.3637 - val_accuracy: 0.8775\n",
            "Epoch 15/20\n",
            "30/30 [==============================] - 1s 36ms/step - loss: 0.0478 - accuracy: 0.9913 - val_loss: 0.3810 - val_accuracy: 0.8788\n",
            "Epoch 16/20\n",
            "30/30 [==============================] - 1s 35ms/step - loss: 0.0420 - accuracy: 0.9923 - val_loss: 0.3961 - val_accuracy: 0.8773\n",
            "Epoch 17/20\n",
            "30/30 [==============================] - 1s 35ms/step - loss: 0.0370 - accuracy: 0.9938 - val_loss: 0.4138 - val_accuracy: 0.8741\n",
            "Epoch 18/20\n",
            "30/30 [==============================] - 1s 36ms/step - loss: 0.0325 - accuracy: 0.9948 - val_loss: 0.4350 - val_accuracy: 0.8694\n",
            "Epoch 19/20\n",
            "30/30 [==============================] - 1s 39ms/step - loss: 0.0283 - accuracy: 0.9959 - val_loss: 0.4686 - val_accuracy: 0.8656\n",
            "Epoch 20/20\n",
            "30/30 [==============================] - 1s 36ms/step - loss: 0.0242 - accuracy: 0.9973 - val_loss: 0.4726 - val_accuracy: 0.8720\n"
          ]
        }
      ]
    },
    {
      "cell_type": "code",
      "source": [
        "history_dict_new = history_newmodel.history\n",
        "history_dict_new.keys()"
      ],
      "metadata": {
        "colab": {
          "base_uri": "https://localhost:8080/"
        },
        "id": "PrdIttosmNjg",
        "outputId": "04aca8c2-d228-49bf-cebb-cc1bafe674dc"
      },
      "execution_count": 23,
      "outputs": [
        {
          "output_type": "execute_result",
          "data": {
            "text/plain": [
              "dict_keys(['loss', 'accuracy', 'val_loss', 'val_accuracy'])"
            ]
          },
          "metadata": {},
          "execution_count": 23
        }
      ]
    },
    {
      "cell_type": "markdown",
      "source": [
        "**Plotting Training and Validation loss with one hidden layer**"
      ],
      "metadata": {
        "id": "00K7MseCnz98"
      }
    },
    {
      "cell_type": "code",
      "source": [
        "import matplotlib.pyplot as plt\n",
        "history_dict_new = history_newmodel.history\n",
        "loss_values = history_dict_new[\"loss\"]\n",
        "val_loss_values = history_dict_new[\"val_loss\"]\n",
        "epochs = range(1, len(loss_values) + 1)\n",
        "plt.plot(epochs, loss_values, \"bo\", label=\"Training loss\")\n",
        "plt.plot(epochs, val_loss_values, \"b\", label=\"Validation loss\")\n",
        "plt.title(\"Training and validation loss\")\n",
        "plt.xlabel(\"Epochs\")\n",
        "plt.ylabel(\"Loss\")\n",
        "plt.legend()\n",
        "plt.show()"
      ],
      "metadata": {
        "colab": {
          "base_uri": "https://localhost:8080/",
          "height": 295
        },
        "id": "b0CDQtkRnVJY",
        "outputId": "3926ea72-245a-4d79-acd3-7aa24e6182b0"
      },
      "execution_count": 24,
      "outputs": [
        {
          "output_type": "display_data",
          "data": {
            "image/png": "[encoded data removed]",
            "text/plain": [
              "<Figure size 432x288 with 1 Axes>"
            ]
          },
          "metadata": {
            "needs_background": "light"
          }
        }
      ]
    },
    {
      "cell_type": "markdown",
      "source": [
        "Validation loss starts increasing at 6 epochs. Training loss decreases continuosly. "
      ],
      "metadata": {
        "id": "znYcL52ln5sM"
      }
    },
    {
      "cell_type": "markdown",
      "source": [
        "**Plotting the training and validation accuracy**"
      ],
      "metadata": {
        "id": "LBwNMn54opNB"
      }
    },
    {
      "cell_type": "code",
      "source": [
        "plt.clf()\n",
        "acc = history_dict_new[\"accuracy\"]\n",
        "val_acc = history_dict_new[\"val_accuracy\"]\n",
        "plt.plot(epochs, acc, \"bo\", label=\"Training acc\")\n",
        "plt.plot(epochs, val_acc, \"b\", label=\"Validation acc\")\n",
        "plt.title(\"Training and validation accuracy\")\n",
        "plt.xlabel(\"Epochs\")\n",
        "plt.ylabel(\"Accuracy\")\n",
        "plt.legend()\n",
        "plt.show()"
      ],
      "metadata": {
        "colab": {
          "base_uri": "https://localhost:8080/",
          "height": 295
        },
        "id": "CLQtahcuop0Y",
        "outputId": "ba92d30a-810c-4cd7-daa2-192951223345"
      },
      "execution_count": 25,
      "outputs": [
        {
          "output_type": "display_data",
          "data": {
            "image/png": "[encoded data removed]",
            "text/plain": [
              "<Figure size 432x288 with 1 Axes>"
            ]
          },
          "metadata": {
            "needs_background": "light"
          }
        }
      ]
    },
    {
      "cell_type": "markdown",
      "source": [
        "Using one hidden layer affects training and validation accuracy. Validation accuracy increases at 3 epochs to 6 epochs. Decreasing the layers helped the accuracy for more epochs. This also leads to less computation time. "
      ],
      "metadata": {
        "id": "6wfOeh_HpC71"
      }
    },
    {
      "cell_type": "markdown",
      "source": [
        "## **Using 2 Layers with more hidden units**"
      ],
      "metadata": {
        "id": "_sv03Jfatbnz"
      }
    },
    {
      "cell_type": "code",
      "source": [
        "#Building the model with 2 hidden layers and 64 units \n",
        "from tensorflow import keras\n",
        "from tensorflow.keras import layers\n",
        "\n",
        "newmodel64 = keras.Sequential([\n",
        "    layers.Dense(64, activation=\"relu\"),\n",
        "    layers.Dense(64, activation=\"relu\"),\n",
        "    layers.Dense(1, activation=\"sigmoid\")\n",
        "])"
      ],
      "metadata": {
        "id": "yn0BpFuDtmFb"
      },
      "execution_count": 27,
      "outputs": []
    },
    {
      "cell_type": "code",
      "source": [
        "newmodel64.compile(optimizer=\"rmsprop\",\n",
        "              loss=\"binary_crossentropy\",\n",
        "              metrics=[\"accuracy\"])"
      ],
      "metadata": {
        "id": "PX_YZ4YZvX2S"
      },
      "execution_count": 28,
      "outputs": []
    },
    {
      "cell_type": "code",
      "source": [
        "history_newmodel64 = newmodel64.fit(partial_x_train,\n",
        "                    partial_y_train,\n",
        "                    epochs=20,\n",
        "                    batch_size=512,\n",
        "                    validation_data=(x_val, y_val))"
      ],
      "metadata": {
        "colab": {
          "base_uri": "https://localhost:8080/"
        },
        "id": "Y4-lv-4gvfjw",
        "outputId": "37f57b8e-930a-4cd0-d82b-41015c3f95a6"
      },
      "execution_count": 29,
      "outputs": [
        {
          "output_type": "stream",
          "name": "stdout",
          "text": [
            "Epoch 1/20\n",
            "30/30 [==============================] - 4s 112ms/step - loss: 0.4896 - accuracy: 0.7746 - val_loss: 0.3266 - val_accuracy: 0.8804\n",
            "Epoch 2/20\n",
            "30/30 [==============================] - 2s 58ms/step - loss: 0.2661 - accuracy: 0.9034 - val_loss: 0.2874 - val_accuracy: 0.8859\n",
            "Epoch 3/20\n",
            "30/30 [==============================] - 2s 58ms/step - loss: 0.1919 - accuracy: 0.9281 - val_loss: 0.2830 - val_accuracy: 0.8834\n",
            "Epoch 4/20\n",
            "30/30 [==============================] - 2s 58ms/step - loss: 0.1366 - accuracy: 0.9517 - val_loss: 0.2924 - val_accuracy: 0.8890\n",
            "Epoch 5/20\n",
            "30/30 [==============================] - 2s 57ms/step - loss: 0.1097 - accuracy: 0.9611 - val_loss: 0.5186 - val_accuracy: 0.8356\n",
            "Epoch 6/20\n",
            "30/30 [==============================] - 2s 56ms/step - loss: 0.0869 - accuracy: 0.9707 - val_loss: 0.3385 - val_accuracy: 0.8828\n",
            "Epoch 7/20\n",
            "30/30 [==============================] - 2s 57ms/step - loss: 0.0605 - accuracy: 0.9812 - val_loss: 0.3759 - val_accuracy: 0.8816\n",
            "Epoch 8/20\n",
            "30/30 [==============================] - 2s 58ms/step - loss: 0.0612 - accuracy: 0.9823 - val_loss: 0.4118 - val_accuracy: 0.8797\n",
            "Epoch 9/20\n",
            "30/30 [==============================] - 2s 57ms/step - loss: 0.0189 - accuracy: 0.9972 - val_loss: 0.4564 - val_accuracy: 0.8771\n",
            "Epoch 10/20\n",
            "30/30 [==============================] - 2s 57ms/step - loss: 0.0435 - accuracy: 0.9879 - val_loss: 0.4881 - val_accuracy: 0.8790\n",
            "Epoch 11/20\n",
            "30/30 [==============================] - 2s 57ms/step - loss: 0.0074 - accuracy: 0.9995 - val_loss: 0.5416 - val_accuracy: 0.8774\n",
            "Epoch 12/20\n",
            "30/30 [==============================] - 2s 57ms/step - loss: 0.0310 - accuracy: 0.9914 - val_loss: 0.5726 - val_accuracy: 0.8742\n",
            "Epoch 13/20\n",
            "30/30 [==============================] - 2s 57ms/step - loss: 0.0031 - accuracy: 0.9999 - val_loss: 0.6171 - val_accuracy: 0.8719\n",
            "Epoch 14/20\n",
            "30/30 [==============================] - 2s 57ms/step - loss: 0.0355 - accuracy: 0.9909 - val_loss: 0.6437 - val_accuracy: 0.8711\n",
            "Epoch 15/20\n",
            "30/30 [==============================] - 2s 57ms/step - loss: 0.0016 - accuracy: 0.9999 - val_loss: 0.6778 - val_accuracy: 0.8722\n",
            "Epoch 16/20\n",
            "30/30 [==============================] - 2s 58ms/step - loss: 0.0011 - accuracy: 0.9999 - val_loss: 0.7306 - val_accuracy: 0.8707\n",
            "Epoch 17/20\n",
            "30/30 [==============================] - 2s 57ms/step - loss: 0.0339 - accuracy: 0.9922 - val_loss: 0.7729 - val_accuracy: 0.8670\n",
            "Epoch 18/20\n",
            "30/30 [==============================] - 2s 57ms/step - loss: 6.2537e-04 - accuracy: 1.0000 - val_loss: 0.7802 - val_accuracy: 0.8696\n",
            "Epoch 19/20\n",
            "30/30 [==============================] - 2s 56ms/step - loss: 3.8406e-04 - accuracy: 1.0000 - val_loss: 0.8213 - val_accuracy: 0.8689\n",
            "Epoch 20/20\n",
            "30/30 [==============================] - 2s 57ms/step - loss: 2.5776e-04 - accuracy: 1.0000 - val_loss: 0.8805 - val_accuracy: 0.8698\n"
          ]
        }
      ]
    },
    {
      "cell_type": "code",
      "source": [
        "history_dict_new64 = history_newmodel64.history\n",
        "history_dict_new64.keys()"
      ],
      "metadata": {
        "colab": {
          "base_uri": "https://localhost:8080/"
        },
        "id": "Hl8kARh_wHoQ",
        "outputId": "0c4e4a11-56ed-4f56-a574-feca2c7c9838"
      },
      "execution_count": 30,
      "outputs": [
        {
          "output_type": "execute_result",
          "data": {
            "text/plain": [
              "dict_keys(['loss', 'accuracy', 'val_loss', 'val_accuracy'])"
            ]
          },
          "metadata": {},
          "execution_count": 30
        }
      ]
    },
    {
      "cell_type": "markdown",
      "source": [
        "**Plotting Training and Validation Loss with more hidden units**"
      ],
      "metadata": {
        "id": "iK-8pyyMwlHp"
      }
    },
    {
      "cell_type": "code",
      "source": [
        "import matplotlib.pyplot as plt\n",
        "history_dict_new_64 = history_newmodel64.history\n",
        "loss_values = history_dict_new_64[\"loss\"]\n",
        "val_loss_values = history_dict_new_64[\"val_loss\"]\n",
        "epochs = range(1, len(loss_values) + 1)\n",
        "plt.plot(epochs, loss_values, \"bo\", label=\"Training loss\")\n",
        "plt.plot(epochs, val_loss_values, \"b\", label=\"Validation loss\")\n",
        "plt.title(\"Training and validation loss\")\n",
        "plt.xlabel(\"Epochs\")\n",
        "plt.ylabel(\"Loss\")\n",
        "plt.legend()\n",
        "plt.show()"
      ],
      "metadata": {
        "colab": {
          "base_uri": "https://localhost:8080/",
          "height": 295
        },
        "id": "ELDhJl8xwvZX",
        "outputId": "1f75a6bb-6428-4bc6-8675-d3c5085ea38d"
      },
      "execution_count": 31,
      "outputs": [
        {
          "output_type": "display_data",
          "data": {
            "image/png": "[encoded data removed]",
            "text/plain": [
              "<Figure size 432x288 with 1 Axes>"
            ]
          },
          "metadata": {
            "needs_background": "light"
          }
        }
      ]
    },
    {
      "cell_type": "markdown",
      "source": [
        "**Plotting the training and validation accuracy**"
      ],
      "metadata": {
        "id": "HgLTkvouxP1A"
      }
    },
    {
      "cell_type": "code",
      "source": [
        "plt.clf()\n",
        "acc = history_dict_new_64[\"accuracy\"]\n",
        "val_acc = history_dict_new_64[\"val_accuracy\"]\n",
        "plt.plot(epochs, acc, \"bo\", label=\"Training acc\")\n",
        "plt.plot(epochs, val_acc, \"b\", label=\"Validation acc\")\n",
        "plt.title(\"Training and validation accuracy\")\n",
        "plt.xlabel(\"Epochs\")\n",
        "plt.ylabel(\"Accuracy\")\n",
        "plt.legend()\n",
        "plt.show()"
      ],
      "metadata": {
        "colab": {
          "base_uri": "https://localhost:8080/",
          "height": 295
        },
        "id": "5ofQzqoDxMXm",
        "outputId": "89be3669-fb2f-47a8-826d-23591af70f6a"
      },
      "execution_count": 32,
      "outputs": [
        {
          "output_type": "display_data",
          "data": {
            "image/png": "[encoded data removed]",
            "text/plain": [
              "<Figure size 432x288 with 1 Axes>"
            ]
          },
          "metadata": {
            "needs_background": "light"
          }
        }
      ]
    },
    {
      "cell_type": "markdown",
      "source": [
        " At 3 epochs, the validation loss sharply decreases until 5 epochs. At 5 epochs, the validation increases until 6 epochs and then starts to decrease continusoly. Using more hidden units in the layers leads to less accuracy."
      ],
      "metadata": {
        "id": "jxuWRPnn2fh5"
      }
    },
    {
      "cell_type": "markdown",
      "source": [
        "## **MSE Loss Function**"
      ],
      "metadata": {
        "id": "M4xmxl-E0XMY"
      }
    },
    {
      "cell_type": "code",
      "source": [
        "#Building the model with 2 hidden layers and 16 units \n",
        "from tensorflow import keras\n",
        "from tensorflow.keras import layers\n",
        "\n",
        "newmodelmse = keras.Sequential([\n",
        "    layers.Dense(16, activation=\"relu\"),\n",
        "    layers.Dense(16, activation=\"relu\"),\n",
        "    layers.Dense(1, activation=\"sigmoid\")\n",
        "])"
      ],
      "metadata": {
        "id": "vur4gpwX0v1I"
      },
      "execution_count": 33,
      "outputs": []
    },
    {
      "cell_type": "code",
      "source": [
        "#Using MSE loss function instead of binary crossentropy\n",
        "newmodelmse.compile(optimizer=\"rmsprop\",\n",
        "              loss=\"MSE\",\n",
        "              metrics=[\"accuracy\"])"
      ],
      "metadata": {
        "id": "xD3TEWB34aje"
      },
      "execution_count": 34,
      "outputs": []
    },
    {
      "cell_type": "code",
      "source": [
        "history_newmodelmse = newmodelmse.fit(partial_x_train,\n",
        "                    partial_y_train,\n",
        "                    epochs=20,\n",
        "                    batch_size=512,\n",
        "                    validation_data=(x_val, y_val))"
      ],
      "metadata": {
        "colab": {
          "base_uri": "https://localhost:8080/"
        },
        "id": "rOQL1EHS4hOI",
        "outputId": "7a2bb46f-0529-4258-d4a5-21e426ad9194"
      },
      "execution_count": 35,
      "outputs": [
        {
          "output_type": "stream",
          "name": "stdout",
          "text": [
            "Epoch 1/20\n",
            "30/30 [==============================] - 2s 50ms/step - loss: 0.1709 - accuracy: 0.7896 - val_loss: 0.1289 - val_accuracy: 0.8472\n",
            "Epoch 2/20\n",
            "30/30 [==============================] - 1s 36ms/step - loss: 0.0920 - accuracy: 0.9032 - val_loss: 0.0952 - val_accuracy: 0.8840\n",
            "Epoch 3/20\n",
            "30/30 [==============================] - 1s 35ms/step - loss: 0.0666 - accuracy: 0.9263 - val_loss: 0.0900 - val_accuracy: 0.8834\n",
            "Epoch 4/20\n",
            "30/30 [==============================] - 1s 36ms/step - loss: 0.0503 - accuracy: 0.9479 - val_loss: 0.0928 - val_accuracy: 0.8755\n",
            "Epoch 5/20\n",
            "30/30 [==============================] - 1s 35ms/step - loss: 0.0412 - accuracy: 0.9579 - val_loss: 0.0831 - val_accuracy: 0.8876\n",
            "Epoch 6/20\n",
            "30/30 [==============================] - 1s 35ms/step - loss: 0.0344 - accuracy: 0.9658 - val_loss: 0.0849 - val_accuracy: 0.8844\n",
            "Epoch 7/20\n",
            "30/30 [==============================] - 1s 38ms/step - loss: 0.0281 - accuracy: 0.9730 - val_loss: 0.0955 - val_accuracy: 0.8703\n",
            "Epoch 8/20\n",
            "30/30 [==============================] - 1s 35ms/step - loss: 0.0231 - accuracy: 0.9795 - val_loss: 0.0880 - val_accuracy: 0.8824\n",
            "Epoch 9/20\n",
            "30/30 [==============================] - 1s 35ms/step - loss: 0.0198 - accuracy: 0.9829 - val_loss: 0.0932 - val_accuracy: 0.8747\n",
            "Epoch 10/20\n",
            "30/30 [==============================] - 1s 35ms/step - loss: 0.0161 - accuracy: 0.9862 - val_loss: 0.0943 - val_accuracy: 0.8736\n",
            "Epoch 11/20\n",
            "30/30 [==============================] - 1s 36ms/step - loss: 0.0141 - accuracy: 0.9879 - val_loss: 0.0959 - val_accuracy: 0.8730\n",
            "Epoch 12/20\n",
            "30/30 [==============================] - 1s 35ms/step - loss: 0.0115 - accuracy: 0.9907 - val_loss: 0.1003 - val_accuracy: 0.8706\n",
            "Epoch 13/20\n",
            "30/30 [==============================] - 1s 35ms/step - loss: 0.0111 - accuracy: 0.9899 - val_loss: 0.0991 - val_accuracy: 0.8729\n",
            "Epoch 14/20\n",
            "30/30 [==============================] - 1s 35ms/step - loss: 0.0087 - accuracy: 0.9924 - val_loss: 0.1031 - val_accuracy: 0.8693\n",
            "Epoch 15/20\n",
            "30/30 [==============================] - 1s 35ms/step - loss: 0.0061 - accuracy: 0.9957 - val_loss: 0.1036 - val_accuracy: 0.8678\n",
            "Epoch 16/20\n",
            "30/30 [==============================] - 1s 35ms/step - loss: 0.0066 - accuracy: 0.9946 - val_loss: 0.1068 - val_accuracy: 0.8679\n",
            "Epoch 17/20\n",
            "30/30 [==============================] - 1s 34ms/step - loss: 0.0063 - accuracy: 0.9942 - val_loss: 0.1072 - val_accuracy: 0.8659\n",
            "Epoch 18/20\n",
            "30/30 [==============================] - 1s 35ms/step - loss: 0.0039 - accuracy: 0.9968 - val_loss: 0.1099 - val_accuracy: 0.8642\n",
            "Epoch 19/20\n",
            "30/30 [==============================] - 1s 36ms/step - loss: 0.0056 - accuracy: 0.9943 - val_loss: 0.1107 - val_accuracy: 0.8625\n",
            "Epoch 20/20\n",
            "30/30 [==============================] - 1s 34ms/step - loss: 0.0032 - accuracy: 0.9973 - val_loss: 0.1117 - val_accuracy: 0.8623\n"
          ]
        }
      ]
    },
    {
      "cell_type": "code",
      "source": [
        "history_dict_newmse = history_newmodelmse.history\n",
        "history_dict_newmse.keys()"
      ],
      "metadata": {
        "colab": {
          "base_uri": "https://localhost:8080/"
        },
        "id": "Cf4-JlfD5dxN",
        "outputId": "91320c0a-0ea8-48c8-b4cf-092dbd6c24da"
      },
      "execution_count": 36,
      "outputs": [
        {
          "output_type": "execute_result",
          "data": {
            "text/plain": [
              "dict_keys(['loss', 'accuracy', 'val_loss', 'val_accuracy'])"
            ]
          },
          "metadata": {},
          "execution_count": 36
        }
      ]
    },
    {
      "cell_type": "markdown",
      "source": [
        "**Plotting Training and Validation Loss with MSE**"
      ],
      "metadata": {
        "id": "e6eGdyDW53V7"
      }
    },
    {
      "cell_type": "code",
      "source": [
        "import matplotlib.pyplot as plt\n",
        "history_dict_new_MSE = history_newmodelmse.history\n",
        "loss_values = history_dict_new_MSE[\"loss\"]\n",
        "val_loss_values = history_dict_new_MSE[\"val_loss\"]\n",
        "epochs = range(1, len(loss_values) + 1)\n",
        "plt.plot(epochs, loss_values, \"bo\", label=\"Training loss\")\n",
        "plt.plot(epochs, val_loss_values, \"b\", label=\"Validation loss\")\n",
        "plt.title(\"Training and validation loss\")\n",
        "plt.xlabel(\"Epochs\")\n",
        "plt.ylabel(\"Loss\")\n",
        "plt.legend()\n",
        "plt.show()"
      ],
      "metadata": {
        "colab": {
          "base_uri": "https://localhost:8080/",
          "height": 295
        },
        "id": "YFytH2X459g_",
        "outputId": "4bc50649-7c25-43ec-834b-714f3977c5a1"
      },
      "execution_count": 37,
      "outputs": [
        {
          "output_type": "display_data",
          "data": {
            "image/png": "[encoded data removed]",
            "text/plain": [
              "<Figure size 432x288 with 1 Axes>"
            ]
          },
          "metadata": {
            "needs_background": "light"
          }
        }
      ]
    },
    {
      "cell_type": "markdown",
      "source": [
        "**Plotting the training and validation accuracy**"
      ],
      "metadata": {
        "id": "kNJfs4FY6s5C"
      }
    },
    {
      "cell_type": "code",
      "source": [
        "plt.clf()\n",
        "acc = history_dict_new_MSE[\"accuracy\"]\n",
        "val_acc = history_dict_new_MSE[\"val_accuracy\"]\n",
        "plt.plot(epochs, acc, \"bo\", label=\"Training acc\")\n",
        "plt.plot(epochs, val_acc, \"b\", label=\"Validation acc\")\n",
        "plt.title(\"Training and validation accuracy\")\n",
        "plt.xlabel(\"Epochs\")\n",
        "plt.ylabel(\"Accuracy\")\n",
        "plt.legend()\n",
        "plt.show()"
      ],
      "metadata": {
        "colab": {
          "base_uri": "https://localhost:8080/",
          "height": 295
        },
        "id": "fXOK-kMJ6zuK",
        "outputId": "924a5cd1-306f-429d-b14b-392244268b4c"
      },
      "execution_count": 38,
      "outputs": [
        {
          "output_type": "display_data",
          "data": {
            "image/png": "[encoded data removed]",
            "text/plain": [
              "<Figure size 432x288 with 1 Axes>"
            ]
          },
          "metadata": {
            "needs_background": "light"
          }
        }
      ]
    },
    {
      "cell_type": "markdown",
      "source": [
        "Using the MSE loss function, the validation accuracy fluctuates more compared to when using binary crossentropy.  "
      ],
      "metadata": {
        "id": "ofSYRceo776M"
      }
    },
    {
      "cell_type": "markdown",
      "source": [
        "# **Using Tanh Activation instead of Relu**"
      ],
      "metadata": {
        "id": "2gTRkVQw8Bgg"
      }
    },
    {
      "cell_type": "code",
      "source": [
        "#Building the model with 2 hidden layers and 16 units using Tanh\n",
        "from tensorflow import keras\n",
        "from tensorflow.keras import layers\n",
        "\n",
        "newmodeltanh = keras.Sequential([\n",
        "    layers.Dense(16, activation=\"tanh\"),\n",
        "    layers.Dense(16, activation=\"tanh\"),\n",
        "    layers.Dense(1, activation=\"sigmoid\")\n",
        "])"
      ],
      "metadata": {
        "id": "Xc8bjuOf8Mwx"
      },
      "execution_count": 39,
      "outputs": []
    },
    {
      "cell_type": "code",
      "source": [
        "newmodeltanh.compile(optimizer=\"rmsprop\",\n",
        "              loss=\"binary_crossentropy\",\n",
        "              metrics=[\"accuracy\"])"
      ],
      "metadata": {
        "id": "FKZVQNH69615"
      },
      "execution_count": 40,
      "outputs": []
    },
    {
      "cell_type": "code",
      "source": [
        "history_tanh = newmodeltanh.fit(partial_x_train,\n",
        "                    partial_y_train,\n",
        "                    epochs=20,\n",
        "                    batch_size=512,\n",
        "                    validation_data=(x_val, y_val))"
      ],
      "metadata": {
        "colab": {
          "base_uri": "https://localhost:8080/"
        },
        "id": "Uqv9Z5mr-JBO",
        "outputId": "a781f635-e2c0-4243-f122-69a2441159ea"
      },
      "execution_count": 41,
      "outputs": [
        {
          "output_type": "stream",
          "name": "stdout",
          "text": [
            "Epoch 1/20\n",
            "30/30 [==============================] - 2s 53ms/step - loss: 0.4770 - accuracy: 0.7937 - val_loss: 0.3589 - val_accuracy: 0.8684\n",
            "Epoch 2/20\n",
            "30/30 [==============================] - 1s 36ms/step - loss: 0.2714 - accuracy: 0.9080 - val_loss: 0.3054 - val_accuracy: 0.8773\n",
            "Epoch 3/20\n",
            "30/30 [==============================] - 1s 36ms/step - loss: 0.1927 - accuracy: 0.9345 - val_loss: 0.2766 - val_accuracy: 0.8873\n",
            "Epoch 4/20\n",
            "30/30 [==============================] - 1s 35ms/step - loss: 0.1473 - accuracy: 0.9505 - val_loss: 0.3008 - val_accuracy: 0.8804\n",
            "Epoch 5/20\n",
            "30/30 [==============================] - 1s 35ms/step - loss: 0.1150 - accuracy: 0.9615 - val_loss: 0.3104 - val_accuracy: 0.8807\n",
            "Epoch 6/20\n",
            "30/30 [==============================] - 1s 35ms/step - loss: 0.0912 - accuracy: 0.9679 - val_loss: 0.3483 - val_accuracy: 0.8767\n",
            "Epoch 7/20\n",
            "30/30 [==============================] - 1s 35ms/step - loss: 0.0680 - accuracy: 0.9779 - val_loss: 0.4024 - val_accuracy: 0.8690\n",
            "Epoch 8/20\n",
            "30/30 [==============================] - 1s 35ms/step - loss: 0.0530 - accuracy: 0.9843 - val_loss: 0.4415 - val_accuracy: 0.8680\n",
            "Epoch 9/20\n",
            "30/30 [==============================] - 1s 35ms/step - loss: 0.0472 - accuracy: 0.9859 - val_loss: 0.4571 - val_accuracy: 0.8718\n",
            "Epoch 10/20\n",
            "30/30 [==============================] - 1s 35ms/step - loss: 0.0363 - accuracy: 0.9892 - val_loss: 0.4915 - val_accuracy: 0.8722\n",
            "Epoch 11/20\n",
            "30/30 [==============================] - 1s 35ms/step - loss: 0.0201 - accuracy: 0.9956 - val_loss: 0.7019 - val_accuracy: 0.8405\n",
            "Epoch 12/20\n",
            "30/30 [==============================] - 1s 38ms/step - loss: 0.0139 - accuracy: 0.9973 - val_loss: 0.6263 - val_accuracy: 0.8622\n",
            "Epoch 13/20\n",
            "30/30 [==============================] - 1s 35ms/step - loss: 0.0254 - accuracy: 0.9921 - val_loss: 0.6107 - val_accuracy: 0.8658\n",
            "Epoch 14/20\n",
            "30/30 [==============================] - 1s 35ms/step - loss: 0.0057 - accuracy: 0.9995 - val_loss: 0.6686 - val_accuracy: 0.8605\n",
            "Epoch 15/20\n",
            "30/30 [==============================] - 1s 36ms/step - loss: 0.0256 - accuracy: 0.9919 - val_loss: 0.6808 - val_accuracy: 0.8659\n",
            "Epoch 16/20\n",
            "30/30 [==============================] - 1s 34ms/step - loss: 0.0020 - accuracy: 0.9999 - val_loss: 0.7020 - val_accuracy: 0.8645\n",
            "Epoch 17/20\n",
            "30/30 [==============================] - 1s 35ms/step - loss: 0.0014 - accuracy: 1.0000 - val_loss: 0.8291 - val_accuracy: 0.8489\n",
            "Epoch 18/20\n",
            "30/30 [==============================] - 1s 36ms/step - loss: 0.0139 - accuracy: 0.9959 - val_loss: 0.7715 - val_accuracy: 0.8636\n",
            "Epoch 19/20\n",
            "30/30 [==============================] - 1s 35ms/step - loss: 6.6625e-04 - accuracy: 1.0000 - val_loss: 0.8117 - val_accuracy: 0.8636\n",
            "Epoch 20/20\n",
            "30/30 [==============================] - 1s 34ms/step - loss: 0.0231 - accuracy: 0.9945 - val_loss: 0.8518 - val_accuracy: 0.8629\n"
          ]
        }
      ]
    },
    {
      "cell_type": "code",
      "source": [
        "history_dict_newtanh = history_tanh.history\n",
        "history_dict_newtanh.keys()"
      ],
      "metadata": {
        "colab": {
          "base_uri": "https://localhost:8080/"
        },
        "id": "XnQg4Q9D-9oK",
        "outputId": "a0c93e76-3741-4759-b518-cdf99addb006"
      },
      "execution_count": 42,
      "outputs": [
        {
          "output_type": "execute_result",
          "data": {
            "text/plain": [
              "dict_keys(['loss', 'accuracy', 'val_loss', 'val_accuracy'])"
            ]
          },
          "metadata": {},
          "execution_count": 42
        }
      ]
    },
    {
      "cell_type": "markdown",
      "source": [
        " **Plotting Training and Validation Loss**"
      ],
      "metadata": {
        "id": "FI0dTk3r_zlk"
      }
    },
    {
      "cell_type": "code",
      "source": [
        "import matplotlib.pyplot as plt\n",
        "history_dict_tanh = history_tanh.history\n",
        "loss_values = history_dict_tanh[\"loss\"]\n",
        "val_loss_values = history_dict_tanh[\"val_loss\"]\n",
        "epochs = range(1, len(loss_values) + 1)\n",
        "plt.plot(epochs, loss_values, \"bo\", label=\"Training loss\")\n",
        "plt.plot(epochs, val_loss_values, \"b\", label=\"Validation loss\")\n",
        "plt.title(\"Training and validation loss\")\n",
        "plt.xlabel(\"Epochs\")\n",
        "plt.ylabel(\"Loss\")\n",
        "plt.legend()\n",
        "plt.show()"
      ],
      "metadata": {
        "colab": {
          "base_uri": "https://localhost:8080/",
          "height": 295
        },
        "id": "dBBUItgQ_ssV",
        "outputId": "4e38c9aa-b137-4740-e7b7-3da8f851d7f9"
      },
      "execution_count": 43,
      "outputs": [
        {
          "output_type": "display_data",
          "data": {
            "image/png": "[encoded data removed]",
            "text/plain": [
              "<Figure size 432x288 with 1 Axes>"
            ]
          },
          "metadata": {
            "needs_background": "light"
          }
        }
      ]
    },
    {
      "cell_type": "markdown",
      "source": [
        "At 2.5 epochs, you will see the validation starts increasing. "
      ],
      "metadata": {
        "id": "3kJZa8_fAjoJ"
      }
    },
    {
      "cell_type": "markdown",
      "source": [
        " **Plotting the training and validation accuracy**"
      ],
      "metadata": {
        "id": "UXkJn-mcAogs"
      }
    },
    {
      "cell_type": "code",
      "source": [
        "plt.clf()\n",
        "acc = history_dict_tanh[\"accuracy\"]\n",
        "val_acc = history_dict_tanh[\"val_accuracy\"]\n",
        "plt.plot(epochs, acc, \"bo\", label=\"Training acc\")\n",
        "plt.plot(epochs, val_acc, \"b\", label=\"Validation acc\")\n",
        "plt.title(\"Training and validation accuracy\")\n",
        "plt.xlabel(\"Epochs\")\n",
        "plt.ylabel(\"Accuracy\")\n",
        "plt.legend()\n",
        "plt.show()"
      ],
      "metadata": {
        "colab": {
          "base_uri": "https://localhost:8080/",
          "height": 295
        },
        "id": "nrPO1I9GAuH_",
        "outputId": "deca4b82-76da-45e2-f36d-bfc41fd55fce"
      },
      "execution_count": 44,
      "outputs": [
        {
          "output_type": "display_data",
          "data": {
            "image/png": "[encoded data removed]",
            "text/plain": [
              "<Figure size 432x288 with 1 Axes>"
            ]
          },
          "metadata": {
            "needs_background": "light"
          }
        }
      ]
    },
    {
      "cell_type": "markdown",
      "source": [
        "Using Tanh instead of Relu, there are a lot more fluctuations with the validation accuracy. In the training and validation accuracy graph using Relu, there were aproxitmatly two fluctuations that were small. This means that using Relu is more accurate since the gap between training and validation loss is less than the graph above. Using Relu is more accurate because Tanh starts overfitting before 3 epochs. "
      ],
      "metadata": {
        "id": "-XNJtqPLCd3x"
      }
    },
    {
      "cell_type": "markdown",
      "source": [
        "## **Using Dropout method** "
      ],
      "metadata": {
        "id": "NfDFTOe4Cjsn"
      }
    },
    {
      "cell_type": "code",
      "source": [
        "#Building the model with 3 hidden layers and 16 units using dropout method on one of the hidden layers. \n",
        "from tensorflow import keras\n",
        "from tensorflow.keras import layers\n",
        "\n",
        "newmodeldropout = keras.Sequential([\n",
        "    layers.Dense(16, activation=\"tanh\"),\n",
        "    layers.Dropout(0.7),\n",
        "    layers.Dense(16, activation=\"tanh\"),\n",
        "    layers.Dense(16, activation=\"tanh\"),\n",
        "    layers.Dense(1, activation=\"sigmoid\")\n",
        "])"
      ],
      "metadata": {
        "id": "STGYlmGjDJRd"
      },
      "execution_count": 45,
      "outputs": []
    },
    {
      "cell_type": "code",
      "source": [
        "newmodeldropout.compile(optimizer=\"rmsprop\",\n",
        "              loss=\"binary_crossentropy\",\n",
        "              metrics=[\"accuracy\"])"
      ],
      "metadata": {
        "id": "G_PcoTHdEMKM"
      },
      "execution_count": 46,
      "outputs": []
    },
    {
      "cell_type": "code",
      "source": [
        "history_dropout = newmodeldropout.fit(partial_x_train,\n",
        "                    partial_y_train,\n",
        "                    epochs=20,\n",
        "                    batch_size=512,\n",
        "                    validation_data=(x_val, y_val))"
      ],
      "metadata": {
        "colab": {
          "base_uri": "https://localhost:8080/"
        },
        "id": "nCOx-5b7ERSn",
        "outputId": "5339f0a3-cc3f-46a6-8d19-5f975c0d6af1"
      },
      "execution_count": 47,
      "outputs": [
        {
          "output_type": "stream",
          "name": "stdout",
          "text": [
            "Epoch 1/20\n",
            "30/30 [==============================] - 2s 46ms/step - loss: 0.5196 - accuracy: 0.7610 - val_loss: 0.3633 - val_accuracy: 0.8607\n",
            "Epoch 2/20\n",
            "30/30 [==============================] - 1s 34ms/step - loss: 0.3322 - accuracy: 0.8753 - val_loss: 0.2839 - val_accuracy: 0.8839\n",
            "Epoch 3/20\n",
            "30/30 [==============================] - 1s 34ms/step - loss: 0.2573 - accuracy: 0.9025 - val_loss: 0.2739 - val_accuracy: 0.8891\n",
            "Epoch 4/20\n",
            "30/30 [==============================] - 1s 34ms/step - loss: 0.2247 - accuracy: 0.9169 - val_loss: 0.2805 - val_accuracy: 0.8888\n",
            "Epoch 5/20\n",
            "30/30 [==============================] - 1s 34ms/step - loss: 0.1940 - accuracy: 0.9289 - val_loss: 0.2901 - val_accuracy: 0.8868\n",
            "Epoch 6/20\n",
            "30/30 [==============================] - 1s 34ms/step - loss: 0.1808 - accuracy: 0.9354 - val_loss: 0.3030 - val_accuracy: 0.8860\n",
            "Epoch 7/20\n",
            "30/30 [==============================] - 1s 34ms/step - loss: 0.1673 - accuracy: 0.9397 - val_loss: 0.3229 - val_accuracy: 0.8842\n",
            "Epoch 8/20\n",
            "30/30 [==============================] - 1s 38ms/step - loss: 0.1508 - accuracy: 0.9482 - val_loss: 0.3337 - val_accuracy: 0.8830\n",
            "Epoch 9/20\n",
            "30/30 [==============================] - 1s 35ms/step - loss: 0.1379 - accuracy: 0.9514 - val_loss: 0.3397 - val_accuracy: 0.8811\n",
            "Epoch 10/20\n",
            "30/30 [==============================] - 1s 35ms/step - loss: 0.1282 - accuracy: 0.9557 - val_loss: 0.3485 - val_accuracy: 0.8821\n",
            "Epoch 11/20\n",
            "30/30 [==============================] - 1s 34ms/step - loss: 0.1206 - accuracy: 0.9595 - val_loss: 0.3653 - val_accuracy: 0.8822\n",
            "Epoch 12/20\n",
            "30/30 [==============================] - 1s 34ms/step - loss: 0.1193 - accuracy: 0.9580 - val_loss: 0.3680 - val_accuracy: 0.8815\n",
            "Epoch 13/20\n",
            "30/30 [==============================] - 1s 34ms/step - loss: 0.1106 - accuracy: 0.9617 - val_loss: 0.3803 - val_accuracy: 0.8793\n",
            "Epoch 14/20\n",
            "30/30 [==============================] - 1s 35ms/step - loss: 0.1010 - accuracy: 0.9658 - val_loss: 0.3977 - val_accuracy: 0.8788\n",
            "Epoch 15/20\n",
            "30/30 [==============================] - 1s 35ms/step - loss: 0.0940 - accuracy: 0.9683 - val_loss: 0.4117 - val_accuracy: 0.8775\n",
            "Epoch 16/20\n",
            "30/30 [==============================] - 1s 36ms/step - loss: 0.0895 - accuracy: 0.9694 - val_loss: 0.4420 - val_accuracy: 0.8732\n",
            "Epoch 17/20\n",
            "30/30 [==============================] - 1s 35ms/step - loss: 0.0841 - accuracy: 0.9716 - val_loss: 0.4410 - val_accuracy: 0.8760\n",
            "Epoch 18/20\n",
            "30/30 [==============================] - 1s 34ms/step - loss: 0.0778 - accuracy: 0.9735 - val_loss: 0.4549 - val_accuracy: 0.8765\n",
            "Epoch 19/20\n",
            "30/30 [==============================] - 1s 35ms/step - loss: 0.0710 - accuracy: 0.9774 - val_loss: 0.4894 - val_accuracy: 0.8721\n",
            "Epoch 20/20\n",
            "30/30 [==============================] - 1s 34ms/step - loss: 0.0663 - accuracy: 0.9773 - val_loss: 0.4884 - val_accuracy: 0.8741\n"
          ]
        }
      ]
    },
    {
      "cell_type": "code",
      "source": [
        "history_dict_dropout = history_dropout.history\n",
        "history_dict_dropout.keys()"
      ],
      "metadata": {
        "colab": {
          "base_uri": "https://localhost:8080/"
        },
        "id": "VYk7E2zoEh1y",
        "outputId": "f1491753-5337-497c-8925-797ece764cd6"
      },
      "execution_count": 48,
      "outputs": [
        {
          "output_type": "execute_result",
          "data": {
            "text/plain": [
              "dict_keys(['loss', 'accuracy', 'val_loss', 'val_accuracy'])"
            ]
          },
          "metadata": {},
          "execution_count": 48
        }
      ]
    },
    {
      "cell_type": "markdown",
      "source": [
        "**Plotting Training and Validation Loss**"
      ],
      "metadata": {
        "id": "6ffi3cUdEuOU"
      }
    },
    {
      "cell_type": "code",
      "source": [
        "import matplotlib.pyplot as plt\n",
        "history_dict_drop = history_dropout.history\n",
        "loss_values = history_dict_dropout[\"loss\"]\n",
        "val_loss_values = history_dict_dropout[\"val_loss\"]\n",
        "epochs = range(1, len(loss_values) + 1)\n",
        "plt.plot(epochs, loss_values, \"bo\", label=\"Training loss\")\n",
        "plt.plot(epochs, val_loss_values, \"b\", label=\"Validation loss\")\n",
        "plt.title(\"Training and validation loss\")\n",
        "plt.xlabel(\"Epochs\")\n",
        "plt.ylabel(\"Loss\")\n",
        "plt.legend()\n",
        "plt.show()"
      ],
      "metadata": {
        "colab": {
          "base_uri": "https://localhost:8080/",
          "height": 295
        },
        "id": "k-FfJJe6Ey_T",
        "outputId": "da198641-7242-438f-d42c-249a899f8df2"
      },
      "execution_count": 49,
      "outputs": [
        {
          "output_type": "display_data",
          "data": {
            "image/png": "[encoded data removed]",
            "text/plain": [
              "<Figure size 432x288 with 1 Axes>"
            ]
          },
          "metadata": {
            "needs_background": "light"
          }
        }
      ]
    },
    {
      "cell_type": "markdown",
      "source": [
        "At 2.5, the validation loss starts to increase while the training loss decreases. "
      ],
      "metadata": {
        "id": "BL-OlncuFKMn"
      }
    },
    {
      "cell_type": "markdown",
      "source": [
        "**Plotting the training and validation accuracy**"
      ],
      "metadata": {
        "id": "22t1Oq_kFQzv"
      }
    },
    {
      "cell_type": "code",
      "source": [
        "plt.clf()\n",
        "acc = history_dict_drop[\"accuracy\"]\n",
        "val_acc = history_dict_drop[\"val_accuracy\"]\n",
        "plt.plot(epochs, acc, \"bo\", label=\"Training acc\")\n",
        "plt.plot(epochs, val_acc, \"b\", label=\"Validation acc\")\n",
        "plt.title(\"Training and validation accuracy\")\n",
        "plt.xlabel(\"Epochs\")\n",
        "plt.ylabel(\"Accuracy\")\n",
        "plt.legend()\n",
        "plt.show()"
      ],
      "metadata": {
        "colab": {
          "base_uri": "https://localhost:8080/",
          "height": 295
        },
        "id": "LXyJNHDoFV--",
        "outputId": "8161a98e-146e-492e-a51e-60ebf335da1a"
      },
      "execution_count": 50,
      "outputs": [
        {
          "output_type": "display_data",
          "data": {
            "image/png": "[encoded data removed]",
            "text/plain": [
              "<Figure size 432x288 with 1 Axes>"
            ]
          },
          "metadata": {
            "needs_background": "light"
          }
        }
      ]
    },
    {
      "cell_type": "markdown",
      "source": [
        "The epochs continue to increase until 6 epochs. The dropout method increases accuracy because it removes the uneccessary nodes for prediction and it prevents overfitting. "
      ],
      "metadata": {
        "id": "Oju4Qt59FilH"
      }
    }
  ]
}